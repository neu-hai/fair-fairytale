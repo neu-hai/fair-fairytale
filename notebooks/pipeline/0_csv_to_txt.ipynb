{
 "cells": [
  {
   "cell_type": "code",
   "execution_count": 1,
   "id": "3c87ee0e-8161-4d48-9cfa-ab0438ed33c5",
   "metadata": {},
   "outputs": [],
   "source": [
    "import csv\n",
    "import os"
   ]
  },
  {
   "cell_type": "markdown",
   "id": "991a9de4-dc77-4a7c-b4fc-f5a56f9572b1",
   "metadata": {},
   "source": [
    "### Playground and Testing Subset"
   ]
  },
  {
   "cell_type": "code",
   "execution_count": 15,
   "id": "4c1bb076-352b-4e64-9a5e-fe080606b30a",
   "metadata": {
    "tags": []
   },
   "outputs": [],
   "source": [
    "def convert_story_csv_to_txt_file(story_csv_file, story_txt_file):\n",
    "    story_text = \"\"\n",
    "    with open(story_csv_file, newline='') as csvfile:\n",
    "        csv_reader = csv.DictReader(csvfile)\n",
    "        for row in csv_reader:\n",
    "            text = row['text'] + ' '\n",
    "            story_text += text\n",
    "    story_text = story_text[:-1]\n",
    "    \n",
    "    story_text = re.sub('\\n\\n', ' ', story_text)\n",
    "    story_text = re.sub('\\r\\r', ' ', story_text)\n",
    "    story_text = re.sub('\\n', ' ', story_text)\n",
    "    story_text = re.sub('\\r', ' ', story_text)\n",
    "    \n",
    "    with open(story_txt_file, \"w\") as txtfile:\n",
    "        txtfile.write(story_text)\n",
    "    \n",
    "    print(\"Story txt file saved at: {}\".format(story_txt_file))"
   ]
  },
  {
   "cell_type": "code",
   "execution_count": 5,
   "id": "df488f79-12dc-4913-ab66-7ca5da0a17a1",
   "metadata": {},
   "outputs": [],
   "source": [
    "testing_subset_dir = '/Users/pti/challenges/4761_fair_fairytale/fair-fairytale-nlp/data/booknlp/testing_subset'"
   ]
  },
  {
   "cell_type": "code",
   "execution_count": 8,
   "id": "0b2a6fd4-3425-4a68-9751-0f11146806d7",
   "metadata": {},
   "outputs": [],
   "source": [
    "testing_subset_files = listdir(testing_subset_dir)"
   ]
  },
  {
   "cell_type": "code",
   "execution_count": 10,
   "id": "313fe954-e8f2-4595-a85f-cf3d7777dcaf",
   "metadata": {},
   "outputs": [],
   "source": [
    "story_files = [story_file for story_file in testing_subset_files if story_file[-4:] == '.csv']"
   ]
  },
  {
   "cell_type": "code",
   "execution_count": 11,
   "id": "67bec150-6fe4-4bfc-901e-96fe830db347",
   "metadata": {},
   "outputs": [
    {
     "data": {
      "text/plain": [
       "['leelinau-the-lost-daughter-story.csv',\n",
       " 'the-dragon-princess-story.csv',\n",
       " 'bamboo-cutter-moon-child-story.csv']"
      ]
     },
     "execution_count": 11,
     "metadata": {},
     "output_type": "execute_result"
    }
   ],
   "source": [
    "story_files"
   ]
  },
  {
   "cell_type": "code",
   "execution_count": 16,
   "id": "d266255a-5d15-4a9c-91eb-5d13ef41ea8a",
   "metadata": {},
   "outputs": [
    {
     "name": "stdout",
     "output_type": "stream",
     "text": [
      "Story txt file saved at: /Users/pti/challenges/4761_fair_fairytale/fair-fairytale-nlp/data/booknlp/testing_subset/leelinau-the-lost-daughter-story.txt\n",
      "Story txt file saved at: /Users/pti/challenges/4761_fair_fairytale/fair-fairytale-nlp/data/booknlp/testing_subset/the-dragon-princess-story.txt\n",
      "Story txt file saved at: /Users/pti/challenges/4761_fair_fairytale/fair-fairytale-nlp/data/booknlp/testing_subset/bamboo-cutter-moon-child-story.txt\n"
     ]
    }
   ],
   "source": [
    "for story_file in story_files:\n",
    "    story_id = story_file[:-4]\n",
    "    story_csv_file = testing_subset_dir + '/' + story_file\n",
    "    story_txt_file = testing_subset_dir + '/' + story_id + '.txt'\n",
    "    convert_story_csv_to_txt_file(story_csv_file, story_txt_file)"
   ]
  },
  {
   "cell_type": "code",
   "execution_count": null,
   "id": "49bfd01b-f9be-4f24-ba44-31b2fa51ab7a",
   "metadata": {},
   "outputs": [],
   "source": []
  }
 ],
 "metadata": {
  "kernelspec": {
   "display_name": "Python 3 (ipykernel)",
   "language": "python",
   "name": "python3"
  },
  "language_info": {
   "codemirror_mode": {
    "name": "ipython",
    "version": 3
   },
   "file_extension": ".py",
   "mimetype": "text/x-python",
   "name": "python",
   "nbconvert_exporter": "python",
   "pygments_lexer": "ipython3",
   "version": "3.8.10"
  }
 },
 "nbformat": 4,
 "nbformat_minor": 5
}
