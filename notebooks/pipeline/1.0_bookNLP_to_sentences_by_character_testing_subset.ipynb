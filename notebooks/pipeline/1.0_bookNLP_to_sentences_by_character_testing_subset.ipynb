{
 "cells": [
  {
   "cell_type": "markdown",
   "id": "54bb9ec9-631d-49c6-a155-8eb8df5ae196",
   "metadata": {},
   "source": [
    "## Explore Pipeline for Extracting Sentences by Character from BookNLP"
   ]
  },
  {
   "cell_type": "code",
   "execution_count": 1,
   "id": "cff95c9d-7306-492b-acf2-f88d82eb357c",
   "metadata": {},
   "outputs": [],
   "source": [
    "import csv\n",
    "import re\n",
    "\n",
    "import pandas as pd\n",
    "from nltk import pos_tag"
   ]
  },
  {
   "cell_type": "markdown",
   "id": "dcf5589a-66e7-47a0-be64-e5123c59a47b",
   "metadata": {},
   "source": [
    "### Functions"
   ]
  },
  {
   "cell_type": "code",
   "execution_count": 2,
   "id": "1f6d6a84-e1f5-4115-a135-b3d68bf87ffb",
   "metadata": {},
   "outputs": [],
   "source": [
    "def read_story_txt_file(story_txt_file):\n",
    "    with open(story_txt_file) as txt_file:\n",
    "        story_text = txt_file.read()\n",
    "        \n",
    "    return story_text"
   ]
  },
  {
   "cell_type": "code",
   "execution_count": 3,
   "id": "4fd2fe14-1529-4412-9bd1-cf1990e81c36",
   "metadata": {},
   "outputs": [],
   "source": [
    "from nltk.tokenize import sent_tokenize\n",
    "\n",
    "def split_sentences(story_txt: str):\n",
    "    '''Split sentences by period and semi-colon, accounting for dialogue.'''\n",
    "    sentences = sent_tokenize(story_txt)\n",
    "    new_sentences = []\n",
    "\n",
    "    for sentence in sentences:\n",
    "        if ';' in sentence:\n",
    "            clauses = sentence.split(';')\n",
    "            new_clauses = []\n",
    "            for clause in clauses:\n",
    "                # Do we take out the space after the semi-colon?\n",
    "                if clause[-1].isalpha():\n",
    "                    new_clause = clause + ';' \n",
    "                    new_clauses.append(new_clause)\n",
    "                else:\n",
    "                    new_clause = clause\n",
    "                    new_clauses.append(new_clause)\n",
    "            new_sentences += new_clauses\n",
    "        else:\n",
    "            new_sentences.append(sentence)\n",
    "            \n",
    "    return new_sentences"
   ]
  },
  {
   "cell_type": "markdown",
   "id": "e302facd-713d-450e-86fe-0abc2abf5efa",
   "metadata": {},
   "source": [
    "### Read in Data"
   ]
  },
  {
   "cell_type": "code",
   "execution_count": 4,
   "id": "727c7c98-ed8b-4def-b987-5fcea786fe94",
   "metadata": {},
   "outputs": [],
   "source": [
    "story_path = '/Users/pti/challenges/4761_fair_fairytale/fair-fairytale-nlp/data/testing_subset/story_txts/bamboo-cutter-moon-child.txt'"
   ]
  },
  {
   "cell_type": "code",
   "execution_count": 5,
   "id": "038f6450-9e3d-4e7c-a250-09741b2bce5e",
   "metadata": {},
   "outputs": [],
   "source": [
    "story_text_txt = read_story_txt_file(story_path)"
   ]
  },
  {
   "cell_type": "code",
   "execution_count": 6,
   "id": "c1c69cc0-5e66-4ebe-8a1d-9e84c6218976",
   "metadata": {},
   "outputs": [],
   "source": [
    "tokens_path = '/Users/pti/challenges/4761_fair_fairytale/fair-fairytale-nlp/data/testing_subset/booknlp_GX/bamboo-cutter-moon-child/bamboo-cutter-moon-child.tokens'\n",
    "entities_path = '/Users/pti/challenges/4761_fair_fairytale/fair-fairytale-nlp/data/testing_subset/booknlp_GX/bamboo-cutter-moon-child/bamboo-cutter-moon-child.entities'"
   ]
  },
  {
   "cell_type": "code",
   "execution_count": 7,
   "id": "166057c3-7bc9-4735-95b0-95ea5c826d37",
   "metadata": {},
   "outputs": [],
   "source": [
    "entities_df = pd.read_csv(entities_path, sep='\\t')\n",
    "tokens_df = pd.read_csv(tokens_path, delimiter = '\\t')"
   ]
  },
  {
   "cell_type": "code",
   "execution_count": 8,
   "id": "27b13fbc-1b21-48b4-8104-80b7ff750be7",
   "metadata": {},
   "outputs": [
    {
     "data": {
      "text/html": [
       "<div>\n",
       "<style scoped>\n",
       "    .dataframe tbody tr th:only-of-type {\n",
       "        vertical-align: middle;\n",
       "    }\n",
       "\n",
       "    .dataframe tbody tr th {\n",
       "        vertical-align: top;\n",
       "    }\n",
       "\n",
       "    .dataframe thead th {\n",
       "        text-align: right;\n",
       "    }\n",
       "</style>\n",
       "<table border=\"1\" class=\"dataframe\">\n",
       "  <thead>\n",
       "    <tr style=\"text-align: right;\">\n",
       "      <th></th>\n",
       "      <th>COREF</th>\n",
       "      <th>start_token</th>\n",
       "      <th>end_token</th>\n",
       "      <th>prop</th>\n",
       "      <th>cat</th>\n",
       "      <th>text</th>\n",
       "    </tr>\n",
       "  </thead>\n",
       "  <tbody>\n",
       "    <tr>\n",
       "      <th>0</th>\n",
       "      <td>17</td>\n",
       "      <td>7</td>\n",
       "      <td>12</td>\n",
       "      <td>NOM</td>\n",
       "      <td>PER</td>\n",
       "      <td>an old bamboo wood - cutter</td>\n",
       "    </tr>\n",
       "    <tr>\n",
       "      <th>1</th>\n",
       "      <td>17</td>\n",
       "      <td>14</td>\n",
       "      <td>14</td>\n",
       "      <td>PRON</td>\n",
       "      <td>PER</td>\n",
       "      <td>He</td>\n",
       "    </tr>\n",
       "    <tr>\n",
       "      <th>2</th>\n",
       "      <td>18</td>\n",
       "      <td>23</td>\n",
       "      <td>24</td>\n",
       "      <td>NOM</td>\n",
       "      <td>PER</td>\n",
       "      <td>no child</td>\n",
       "    </tr>\n",
       "    <tr>\n",
       "      <th>3</th>\n",
       "      <td>10</td>\n",
       "      <td>26</td>\n",
       "      <td>26</td>\n",
       "      <td>PROP</td>\n",
       "      <td>PER</td>\n",
       "      <td>Heaven</td>\n",
       "    </tr>\n",
       "    <tr>\n",
       "      <th>4</th>\n",
       "      <td>17</td>\n",
       "      <td>30</td>\n",
       "      <td>30</td>\n",
       "      <td>PRON</td>\n",
       "      <td>PER</td>\n",
       "      <td>his</td>\n",
       "    </tr>\n",
       "  </tbody>\n",
       "</table>\n",
       "</div>"
      ],
      "text/plain": [
       "   COREF  start_token  end_token  prop  cat                         text\n",
       "0     17            7         12   NOM  PER  an old bamboo wood - cutter\n",
       "1     17           14         14  PRON  PER                           He\n",
       "2     18           23         24   NOM  PER                     no child\n",
       "3     10           26         26  PROP  PER                       Heaven\n",
       "4     17           30         30  PRON  PER                          his"
      ]
     },
     "execution_count": 8,
     "metadata": {},
     "output_type": "execute_result"
    }
   ],
   "source": [
    "entities_df.head()"
   ]
  },
  {
   "cell_type": "code",
   "execution_count": 9,
   "id": "a9cd0e3a-3232-4219-9e60-f725b64f0526",
   "metadata": {},
   "outputs": [
    {
     "data": {
      "text/plain": [
       "30219"
      ]
     },
     "execution_count": 9,
     "metadata": {},
     "output_type": "execute_result"
    }
   ],
   "source": [
    "len(story_text_txt)"
   ]
  },
  {
   "cell_type": "code",
   "execution_count": 10,
   "id": "53166651-b396-49d8-8fba-e9907b94e88d",
   "metadata": {
    "tags": []
   },
   "outputs": [],
   "source": [
    "def get_coref_unique_character_name(corefs):\n",
    "    coref_character_dicts = []\n",
    "    \n",
    "    for coref in corefs:\n",
    "        coref_character_dict = {}\n",
    "\n",
    "        coref_df = characters_df[characters_df['COREF'] == coref]\n",
    "\n",
    "        proper_names = coref_df[coref_df['prop'] == 'PROP']['text'].unique().tolist()\n",
    "        final_name = \"\"\n",
    "\n",
    "        # Get characters with no proper name\n",
    "        if len(proper_names) == 0:\n",
    "            common_names = coref_df[coref_df['prop'] == 'NOM']['text'].unique().tolist()\n",
    "            if len(common_names) > 1:\n",
    "                # Check if just different cases\n",
    "                common_name = common_names[0].lower()\n",
    "                same_counts = 0\n",
    "                for name in common_names:\n",
    "                    if name.lower() == common_names[0].lower():\n",
    "                        same_counts += 1\n",
    "                if same_counts == len(common_names):\n",
    "                    final_name = common_names[0].lower()\n",
    "            if len(common_names) == 1:\n",
    "                final_name = common_names[0]\n",
    "        # Reconcile characters with multiple proper names\n",
    "        elif len(proper_names) > 1:\n",
    "            proper_name_elements = []\n",
    "            for name in proper_names:\n",
    "                name_elements = name.split(\" \")\n",
    "                upper_count = 0\n",
    "                for name_element in name_elements:\n",
    "                    if name_element[0].isupper():\n",
    "                        upper_count += 1\n",
    "                if upper_count == len(name_elements):\n",
    "                    proper_name_elements.append(name_elements)\n",
    "            if len(proper_name_elements) > 1:\n",
    "                # If a name is a subset of a full name, use full name\n",
    "                sorted_by_len = list(sorted(proper_name_elements, key = len, reverse = True))\n",
    "                longest_element = \" \".join(sorted_by_len[0])\n",
    "                for name_elements in proper_name_elements[1:]:\n",
    "                    if \" \".join(name_elements) in longest_element:\n",
    "                        final_name = longest_element\n",
    "            else:\n",
    "                final_name = proper_name_elements[0][0]\n",
    "        elif len(proper_names) == 1:\n",
    "            final_name = proper_names[0]\n",
    "            \n",
    "        coref_character_dict['coref'] = coref\n",
    "        coref_character_dict['name'] = final_name\n",
    "        \n",
    "        coref_character_dicts.append(coref_character_dict)\n",
    "        \n",
    "    return coref_character_dicts"
   ]
  },
  {
   "cell_type": "code",
   "execution_count": 11,
   "id": "836db26e-2bfb-49ef-bacd-0593bba8a9e3",
   "metadata": {},
   "outputs": [],
   "source": [
    "def get_coref_character_names(corefs, characters_df):\n",
    "    coref_character_dict = {}\n",
    "    \n",
    "    for coref in corefs:        \n",
    "        all_names = \"\"\n",
    "\n",
    "        coref_df = characters_df[characters_df['COREF'] == coref]\n",
    "\n",
    "        proper_names = coref_df[coref_df['prop'] == 'PROP']['text'].unique().tolist()\n",
    "\n",
    "        # Get characters with no proper name\n",
    "        if len(proper_names) == 0:\n",
    "            common_names = coref_df[coref_df['prop'] == 'NOM']['text'].unique().tolist()\n",
    "            if len(common_names) > 1:\n",
    "                # Check if just different cases\n",
    "                common_name = common_names[0].lower()\n",
    "                same_counts = 0\n",
    "                for name in common_names:\n",
    "                    if name.lower() == common_names[0].lower():\n",
    "                        same_counts += 1\n",
    "                if same_counts == len(common_names):\n",
    "                    all_names = common_names[0].lower()\n",
    "                else:\n",
    "                    all_names = \"/\".join(common_names)\n",
    "            if len(common_names) == 1:\n",
    "                all_names = common_names[0]\n",
    "        else:\n",
    "            all_names = \"/\".join(proper_names)\n",
    "                    \n",
    "        if all_names not in ['', 'anyone', 'everyone', 'no one']:\n",
    "            coref_character_dict[coref] = all_names\n",
    "        \n",
    "    return coref_character_dict"
   ]
  },
  {
   "cell_type": "code",
   "execution_count": 12,
   "id": "4d4aa510-497b-404e-837b-00d28f4bc261",
   "metadata": {},
   "outputs": [],
   "source": [
    "def get_start_end_bytes_of_sentences(text):\n",
    "    sentences = split_sentences(text)\n",
    "    \n",
    "    while ('' in sentences):\n",
    "        sentences.remove('')\n",
    "                \n",
    "    start_end_sentences = []\n",
    "    for sentence in sentences:\n",
    "        sentence_start = text.find(sentence)\n",
    "        sentence_end = sentence_start + len(sentence) + 1\n",
    "        start_end_sentences.append([text[sentence_start:sentence_end], sentence_start, sentence_end])\n",
    "        \n",
    "    return start_end_sentences"
   ]
  },
  {
   "cell_type": "code",
   "execution_count": 13,
   "id": "245ca792-5e84-4cbd-bc68-d821459a2288",
   "metadata": {},
   "outputs": [],
   "source": [
    "def get_start_end_bytes_of_coref(coref, corefs_df, tokens_df):\n",
    "    start_end_bytes_of_corefs = []\n",
    "    char_df = corefs_df[corefs_df['COREF'] == coref]\n",
    "    display(char_df)\n",
    "    for i, row in char_df.iterrows():\n",
    "        token_range = list(range(row['start_token'], row['end_token'] + 1))\n",
    "        char_tokens_df = tokens_df[tokens_df['token_ID_within_document'].isin(token_range)]\n",
    "        start_byte = char_tokens_df['byte_onset'].tolist()[0]\n",
    "        end_byte = char_tokens_df['byte_offset'].tolist()[-1]\n",
    "        start_end_bytes_of_corefs.append([int(start_byte), int(end_byte), row['text']])\n",
    "    return start_end_bytes_of_corefs"
   ]
  },
  {
   "cell_type": "code",
   "execution_count": 14,
   "id": "4e993f68-2f5b-4f95-bb0a-0b584e27da23",
   "metadata": {},
   "outputs": [],
   "source": [
    "def get_sentences_of_character(coref, corefs_df, tokens_df, ses_df):\n",
    "    coref_sentences = []\n",
    "    start_end_coref = get_start_end_bytes_of_coref(coref, corefs_df, tokens_df)\n",
    "    \n",
    "    for (coref_start, coref_end) in start_end_coref:\n",
    "        ses_char_df = ses_df[(coref_start >= ses_df['start']) & (coref_end <= ses_df['end'])]\n",
    "        sentence = ses_char_df['text'].values[0]\n",
    "        if sentence not in coref_sentences:\n",
    "            coref_sentences.append(sentence)\n",
    "\n",
    "    return coref_sentences"
   ]
  },
  {
   "cell_type": "code",
   "execution_count": 15,
   "id": "2136edd5-c0d2-4e2f-8f6c-45d17f48d3e5",
   "metadata": {},
   "outputs": [],
   "source": [
    "entities_df = pd.read_csv(entities_path, sep='\\t')\n",
    "tokens_df = pd.read_csv(tokens_path, delimiter = '\\t')\n",
    "\n",
    "characters_df = entities_df[entities_df['cat'] == 'PER']\n",
    "\n",
    "# All corefs\n",
    "corefs = characters_df['COREF'].unique()\n",
    "\n",
    "# All valid corefs (no corefs with only pronouns or possessives)\n",
    "coref2character = get_coref_character_names(corefs, characters_df) \n",
    "corefs = coref2character.keys()\n",
    "\n",
    "corefs_df = characters_df[characters_df['COREF'].isin(corefs)][['COREF', 'start_token', 'end_token', 'text']].sort_values(by = 'COREF')"
   ]
  },
  {
   "cell_type": "code",
   "execution_count": 16,
   "id": "918f46f2-2d06-460d-b7d5-6dd5d106a143",
   "metadata": {},
   "outputs": [],
   "source": [
    "start_end_sentences = get_start_end_bytes_of_sentences(story_text_txt)\n",
    "ses_df = pd.DataFrame(start_end_sentences).reset_index().rename(columns = {'index': 'sentence_id', 0: 'text', 1: 'start', 2: 'end'})\n",
    "\n",
    "sentences_by_character = {}"
   ]
  },
  {
   "cell_type": "code",
   "execution_count": 17,
   "id": "bffbdba5-3af1-4cc3-9fa3-38d32271881c",
   "metadata": {},
   "outputs": [
    {
     "name": "stdout",
     "output_type": "stream",
     "text": [
      "242\n"
     ]
    }
   ],
   "source": [
    "print(len(ses_df))"
   ]
  },
  {
   "cell_type": "code",
   "execution_count": 18,
   "id": "11cc7be8-4e8b-4f2c-b10d-78e08189e874",
   "metadata": {},
   "outputs": [
    {
     "data": {
      "text/plain": [
       "'Every morning he went forth into the woods and hills wherever the bamboo reared its lithe green plumes against the sky.'"
      ]
     },
     "execution_count": 18,
     "metadata": {},
     "output_type": "execute_result"
    }
   ],
   "source": [
    "story_text_txt[236:355]"
   ]
  },
  {
   "cell_type": "code",
   "execution_count": 19,
   "id": "652c03d2-3c9e-479e-b495-b33761ee57f5",
   "metadata": {},
   "outputs": [
    {
     "data": {
      "text/plain": [
       "'So to this day people say there is smoke to be seen rising from the top of Mount Fuji to the clouds.'"
      ]
     },
     "execution_count": 19,
     "metadata": {},
     "output_type": "execute_result"
    }
   ],
   "source": [
    "story_text_txt[30119:30220]"
   ]
  },
  {
   "cell_type": "code",
   "execution_count": 20,
   "id": "89b6cf6c-72cb-42fb-a9a4-27b4f21e7a50",
   "metadata": {},
   "outputs": [
    {
     "data": {
      "text/plain": [
       "array([ 10,  11,  12,  13,  14,  15,  16,  17,  18,  25,  27,  28,  29,\n",
       "        31,  32,  33,  34,  35,  36,  39,  40,  41,  42,  43,  44,  47,\n",
       "        49,  50,  51,  53,  54,  55,  56,  58,  59,  62,  63,  64,  65,\n",
       "        73,  74,  76,  77,  79,  80,  85,  86,  88,  89,  91,  94,  98,\n",
       "       100, 101, 102, 103, 106, 109, 112, 113, 115, 117, 120, 121, 122,\n",
       "       124, 128, 134, 137, 141, 144, 147, 150, 152, 154, 160, 164, 167,\n",
       "       170, 174, 176, 177, 179, 185, 186, 187, 196, 198, 200, 201, 203,\n",
       "       205, 208, 210, 212, 214, 219, 220, 222, 225, 229, 230, 231, 232,\n",
       "       233, 236, 237, 238, 240, 254, 255, 256, 257, 262, 264, 269, 270,\n",
       "       272, 274, 275, 283, 285, 289, 291, 297, 299, 300, 306, 308, 310,\n",
       "       319, 320, 322, 323, 325, 329, 330, 331, 332, 336, 337, 338, 342,\n",
       "       351, 354, 355, 362, 369, 370, 372, 373, 374, 375, 376, 377, 378,\n",
       "       379, 381, 382, 388, 389, 402, 403, 404, 407])"
      ]
     },
     "execution_count": 20,
     "metadata": {},
     "output_type": "execute_result"
    }
   ],
   "source": [
    "corefs_df['COREF'].unique()"
   ]
  },
  {
   "cell_type": "code",
   "execution_count": 21,
   "id": "c56d97cf-e365-4bc4-838e-5544aff8c8a8",
   "metadata": {},
   "outputs": [
    {
     "data": {
      "text/html": [
       "<div>\n",
       "<style scoped>\n",
       "    .dataframe tbody tr th:only-of-type {\n",
       "        vertical-align: middle;\n",
       "    }\n",
       "\n",
       "    .dataframe tbody tr th {\n",
       "        vertical-align: top;\n",
       "    }\n",
       "\n",
       "    .dataframe thead th {\n",
       "        text-align: right;\n",
       "    }\n",
       "</style>\n",
       "<table border=\"1\" class=\"dataframe\">\n",
       "  <thead>\n",
       "    <tr style=\"text-align: right;\">\n",
       "      <th></th>\n",
       "      <th>COREF</th>\n",
       "      <th>start_token</th>\n",
       "      <th>end_token</th>\n",
       "      <th>text</th>\n",
       "    </tr>\n",
       "  </thead>\n",
       "  <tbody>\n",
       "    <tr>\n",
       "      <th>0</th>\n",
       "      <td>17</td>\n",
       "      <td>7</td>\n",
       "      <td>12</td>\n",
       "      <td>an old bamboo wood - cutter</td>\n",
       "    </tr>\n",
       "    <tr>\n",
       "      <th>21</th>\n",
       "      <td>17</td>\n",
       "      <td>146</td>\n",
       "      <td>146</td>\n",
       "      <td>his</td>\n",
       "    </tr>\n",
       "    <tr>\n",
       "      <th>26</th>\n",
       "      <td>17</td>\n",
       "      <td>230</td>\n",
       "      <td>230</td>\n",
       "      <td>he</td>\n",
       "    </tr>\n",
       "    <tr>\n",
       "      <th>18</th>\n",
       "      <td>17</td>\n",
       "      <td>126</td>\n",
       "      <td>126</td>\n",
       "      <td>his</td>\n",
       "    </tr>\n",
       "    <tr>\n",
       "      <th>25</th>\n",
       "      <td>17</td>\n",
       "      <td>219</td>\n",
       "      <td>219</td>\n",
       "      <td>his</td>\n",
       "    </tr>\n",
       "    <tr>\n",
       "      <th>17</th>\n",
       "      <td>17</td>\n",
       "      <td>124</td>\n",
       "      <td>124</td>\n",
       "      <td>he</td>\n",
       "    </tr>\n",
       "    <tr>\n",
       "      <th>13</th>\n",
       "      <td>17</td>\n",
       "      <td>86</td>\n",
       "      <td>86</td>\n",
       "      <td>he</td>\n",
       "    </tr>\n",
       "    <tr>\n",
       "      <th>11</th>\n",
       "      <td>17</td>\n",
       "      <td>80</td>\n",
       "      <td>80</td>\n",
       "      <td>he</td>\n",
       "    </tr>\n",
       "    <tr>\n",
       "      <th>8</th>\n",
       "      <td>17</td>\n",
       "      <td>59</td>\n",
       "      <td>59</td>\n",
       "      <td>he</td>\n",
       "    </tr>\n",
       "    <tr>\n",
       "      <th>6</th>\n",
       "      <td>17</td>\n",
       "      <td>47</td>\n",
       "      <td>47</td>\n",
       "      <td>he</td>\n",
       "    </tr>\n",
       "    <tr>\n",
       "      <th>5</th>\n",
       "      <td>17</td>\n",
       "      <td>36</td>\n",
       "      <td>36</td>\n",
       "      <td>his</td>\n",
       "    </tr>\n",
       "    <tr>\n",
       "      <th>12</th>\n",
       "      <td>17</td>\n",
       "      <td>83</td>\n",
       "      <td>83</td>\n",
       "      <td>his</td>\n",
       "    </tr>\n",
       "    <tr>\n",
       "      <th>20</th>\n",
       "      <td>17</td>\n",
       "      <td>141</td>\n",
       "      <td>141</td>\n",
       "      <td>he</td>\n",
       "    </tr>\n",
       "    <tr>\n",
       "      <th>1</th>\n",
       "      <td>17</td>\n",
       "      <td>14</td>\n",
       "      <td>14</td>\n",
       "      <td>He</td>\n",
       "    </tr>\n",
       "    <tr>\n",
       "      <th>23</th>\n",
       "      <td>17</td>\n",
       "      <td>199</td>\n",
       "      <td>199</td>\n",
       "      <td>he</td>\n",
       "    </tr>\n",
       "    <tr>\n",
       "      <th>4</th>\n",
       "      <td>17</td>\n",
       "      <td>30</td>\n",
       "      <td>30</td>\n",
       "      <td>his</td>\n",
       "    </tr>\n",
       "  </tbody>\n",
       "</table>\n",
       "</div>"
      ],
      "text/plain": [
       "    COREF  start_token  end_token                         text\n",
       "0      17            7         12  an old bamboo wood - cutter\n",
       "21     17          146        146                          his\n",
       "26     17          230        230                           he\n",
       "18     17          126        126                          his\n",
       "25     17          219        219                          his\n",
       "17     17          124        124                           he\n",
       "13     17           86         86                           he\n",
       "11     17           80         80                           he\n",
       "8      17           59         59                           he\n",
       "6      17           47         47                           he\n",
       "5      17           36         36                          his\n",
       "12     17           83         83                          his\n",
       "20     17          141        141                           he\n",
       "1      17           14         14                           He\n",
       "23     17          199        199                           he\n",
       "4      17           30         30                          his"
      ]
     },
     "execution_count": 21,
     "metadata": {},
     "output_type": "execute_result"
    }
   ],
   "source": [
    "corefs_df[corefs_df['COREF'] == 17]"
   ]
  },
  {
   "cell_type": "code",
   "execution_count": 22,
   "id": "3356df58-4d93-4c59-9546-435f446787f7",
   "metadata": {},
   "outputs": [
    {
     "data": {
      "text/html": [
       "<div>\n",
       "<style scoped>\n",
       "    .dataframe tbody tr th:only-of-type {\n",
       "        vertical-align: middle;\n",
       "    }\n",
       "\n",
       "    .dataframe tbody tr th {\n",
       "        vertical-align: top;\n",
       "    }\n",
       "\n",
       "    .dataframe thead th {\n",
       "        text-align: right;\n",
       "    }\n",
       "</style>\n",
       "<table border=\"1\" class=\"dataframe\">\n",
       "  <thead>\n",
       "    <tr style=\"text-align: right;\">\n",
       "      <th></th>\n",
       "      <th>COREF</th>\n",
       "      <th>start_token</th>\n",
       "      <th>end_token</th>\n",
       "      <th>text</th>\n",
       "    </tr>\n",
       "  </thead>\n",
       "  <tbody>\n",
       "    <tr>\n",
       "      <th>0</th>\n",
       "      <td>17</td>\n",
       "      <td>7</td>\n",
       "      <td>12</td>\n",
       "      <td>an old bamboo wood - cutter</td>\n",
       "    </tr>\n",
       "    <tr>\n",
       "      <th>21</th>\n",
       "      <td>17</td>\n",
       "      <td>146</td>\n",
       "      <td>146</td>\n",
       "      <td>his</td>\n",
       "    </tr>\n",
       "    <tr>\n",
       "      <th>26</th>\n",
       "      <td>17</td>\n",
       "      <td>230</td>\n",
       "      <td>230</td>\n",
       "      <td>he</td>\n",
       "    </tr>\n",
       "    <tr>\n",
       "      <th>18</th>\n",
       "      <td>17</td>\n",
       "      <td>126</td>\n",
       "      <td>126</td>\n",
       "      <td>his</td>\n",
       "    </tr>\n",
       "    <tr>\n",
       "      <th>25</th>\n",
       "      <td>17</td>\n",
       "      <td>219</td>\n",
       "      <td>219</td>\n",
       "      <td>his</td>\n",
       "    </tr>\n",
       "    <tr>\n",
       "      <th>17</th>\n",
       "      <td>17</td>\n",
       "      <td>124</td>\n",
       "      <td>124</td>\n",
       "      <td>he</td>\n",
       "    </tr>\n",
       "    <tr>\n",
       "      <th>13</th>\n",
       "      <td>17</td>\n",
       "      <td>86</td>\n",
       "      <td>86</td>\n",
       "      <td>he</td>\n",
       "    </tr>\n",
       "    <tr>\n",
       "      <th>11</th>\n",
       "      <td>17</td>\n",
       "      <td>80</td>\n",
       "      <td>80</td>\n",
       "      <td>he</td>\n",
       "    </tr>\n",
       "    <tr>\n",
       "      <th>8</th>\n",
       "      <td>17</td>\n",
       "      <td>59</td>\n",
       "      <td>59</td>\n",
       "      <td>he</td>\n",
       "    </tr>\n",
       "    <tr>\n",
       "      <th>6</th>\n",
       "      <td>17</td>\n",
       "      <td>47</td>\n",
       "      <td>47</td>\n",
       "      <td>he</td>\n",
       "    </tr>\n",
       "    <tr>\n",
       "      <th>5</th>\n",
       "      <td>17</td>\n",
       "      <td>36</td>\n",
       "      <td>36</td>\n",
       "      <td>his</td>\n",
       "    </tr>\n",
       "    <tr>\n",
       "      <th>12</th>\n",
       "      <td>17</td>\n",
       "      <td>83</td>\n",
       "      <td>83</td>\n",
       "      <td>his</td>\n",
       "    </tr>\n",
       "    <tr>\n",
       "      <th>20</th>\n",
       "      <td>17</td>\n",
       "      <td>141</td>\n",
       "      <td>141</td>\n",
       "      <td>he</td>\n",
       "    </tr>\n",
       "    <tr>\n",
       "      <th>1</th>\n",
       "      <td>17</td>\n",
       "      <td>14</td>\n",
       "      <td>14</td>\n",
       "      <td>He</td>\n",
       "    </tr>\n",
       "    <tr>\n",
       "      <th>23</th>\n",
       "      <td>17</td>\n",
       "      <td>199</td>\n",
       "      <td>199</td>\n",
       "      <td>he</td>\n",
       "    </tr>\n",
       "    <tr>\n",
       "      <th>4</th>\n",
       "      <td>17</td>\n",
       "      <td>30</td>\n",
       "      <td>30</td>\n",
       "      <td>his</td>\n",
       "    </tr>\n",
       "  </tbody>\n",
       "</table>\n",
       "</div>"
      ],
      "text/plain": [
       "    COREF  start_token  end_token                         text\n",
       "0      17            7         12  an old bamboo wood - cutter\n",
       "21     17          146        146                          his\n",
       "26     17          230        230                           he\n",
       "18     17          126        126                          his\n",
       "25     17          219        219                          his\n",
       "17     17          124        124                           he\n",
       "13     17           86         86                           he\n",
       "11     17           80         80                           he\n",
       "8      17           59         59                           he\n",
       "6      17           47         47                           he\n",
       "5      17           36         36                          his\n",
       "12     17           83         83                          his\n",
       "20     17          141        141                           he\n",
       "1      17           14         14                           He\n",
       "23     17          199        199                           he\n",
       "4      17           30         30                          his"
      ]
     },
     "metadata": {},
     "output_type": "display_data"
    }
   ],
   "source": [
    "start_end_bytes_coref_11 = get_start_end_bytes_of_coref(17, corefs_df, tokens_df)"
   ]
  },
  {
   "cell_type": "code",
   "execution_count": 23,
   "id": "379b9cfb-150d-4819-9a8b-fc408615c0a5",
   "metadata": {},
   "outputs": [
    {
     "name": "stdout",
     "output_type": "stream",
     "text": [
      "28 53 an old bamboo wood - cutter an old bamboo wood-cutter\n"
     ]
    }
   ],
   "source": [
    "for (start, end, reference) in start_end_bytes_coref_11:\n",
    "    if (story_text_txt[start:end] != reference):\n",
    "        print(start, end, reference, story_text_txt[start:end])"
   ]
  },
  {
   "cell_type": "code",
   "execution_count": 24,
   "id": "b9b6e850-321d-4293-978a-4d19a682e8cb",
   "metadata": {},
   "outputs": [],
   "source": [
    "def get_start_end_bytes_of_coref(coref, corefs_df, tokens_df, story_text):\n",
    "    start_end_bytes_of_corefs = []\n",
    "    char_df = corefs_df[corefs_df['COREF'] == coref]\n",
    "    for i, row in char_df.iterrows():\n",
    "        token_range = list(range(row['start_token'], row['end_token'] + 1))\n",
    "        char_tokens_df = tokens_df[tokens_df['token_ID_within_document'].isin(token_range)]\n",
    "        start_byte = int(char_tokens_df['byte_onset'].tolist()[0])\n",
    "        end_byte = int(char_tokens_df['byte_offset'].tolist()[-1])\n",
    "        if (story_text[start_byte:end_byte] != row['text']):\n",
    "            start_end_bytes_of_corefs.append([start_byte, end_byte, story_text[start_byte:end_byte]]) \n",
    "        else:\n",
    "            start_end_bytes_of_corefs.append([start_byte, end_byte, row['text']])\n",
    "    return start_end_bytes_of_corefs"
   ]
  },
  {
   "cell_type": "code",
   "execution_count": 25,
   "id": "eaa4a718-5857-498d-8a26-741b6750ae3e",
   "metadata": {
    "tags": []
   },
   "outputs": [
    {
     "data": {
      "text/plain": [
       "[[28, 53, 'an old bamboo wood-cutter'],\n",
       " [686, 689, 'his'],\n",
       " [1079, 1081, 'he'],\n",
       " [590, 593, 'his'],\n",
       " [1025, 1028, 'his'],\n",
       " [583, 585, 'he'],\n",
       " [385, 387, 'he'],\n",
       " [361, 363, 'he'],\n",
       " [250, 252, 'he'],\n",
       " [195, 197, 'he'],\n",
       " [144, 147, 'his'],\n",
       " [373, 376, 'his'],\n",
       " [667, 669, 'he'],\n",
       " [55, 57, 'He'],\n",
       " [930, 932, 'he'],\n",
       " [124, 127, 'his']]"
      ]
     },
     "execution_count": 25,
     "metadata": {},
     "output_type": "execute_result"
    }
   ],
   "source": [
    "get_start_end_bytes_of_coref(17, corefs_df, tokens_df, story_text_txt)"
   ]
  },
  {
   "cell_type": "code",
   "execution_count": 25,
   "id": "ed1ad524-2bc1-46f0-9b51-9ab3748cc15e",
   "metadata": {},
   "outputs": [
    {
     "data": {
      "text/plain": [
       "'an old bamboo wood-cutter'"
      ]
     },
     "execution_count": 25,
     "metadata": {},
     "output_type": "execute_result"
    }
   ],
   "source": [
    "story_text_txt[28:53]"
   ]
  },
  {
   "cell_type": "code",
   "execution_count": 59,
   "id": "03306239-c7b9-462e-b39d-0f055dfe9129",
   "metadata": {},
   "outputs": [],
   "source": [
    "def get_start_end_bytes_in_sentences(coref, coref2character, corefs_df, tokens_df, ses_df, text):\n",
    "    start_end_coref = get_start_end_bytes_of_coref(coref, corefs_df, tokens_df, text)\n",
    "    print(len(start_end_coref))\n",
    "    \n",
    "    start_end_bytes_in_sentence = []\n",
    "    \n",
    "    for (coref_start, coref_end, character_text) in start_end_coref:\n",
    "        ses_char_df = ses_df[(coref_start >= ses_df['start']) & (coref_end <= ses_df['end'])]\n",
    "        if len(ses_char_df) > 0:\n",
    "            sentence_id = ses_char_df['sentence_id'].values[0]\n",
    "            start_sentence = ses_char_df['start'].values[0]\n",
    "            end_sentence = ses_char_df['end'].values[0]\n",
    "            start_coref_in_sentence = coref_start - start_sentence\n",
    "            end_coref_in_sentence = start_coref_in_sentence + len(character_text)\n",
    "            character_text_in_sentence = ses_char_df['text'].values[0][start_coref_in_sentence:end_coref_in_sentence]\n",
    "            start_end_bytes_in_sentence.append([coref, coref2character[coref], character_text, sentence_id, start_coref_in_sentence, end_coref_in_sentence])\n",
    "    return start_end_bytes_in_sentence"
   ]
  },
  {
   "cell_type": "code",
   "execution_count": 27,
   "id": "ffafb583-b0bc-4af3-954d-692fbc56ef1b",
   "metadata": {
    "tags": []
   },
   "outputs": [],
   "source": [
    "def get_sentences_by_characters_table(corefs, coref2character, corefs_df, tokens_df, text):\n",
    "    start_end_sentences = get_start_end_bytes_of_sentences(text)\n",
    "    ses_df = pd.DataFrame(start_end_sentences).reset_index().rename(columns = {'index': 'sentence_id', 0: 'text', 1: 'start', 2: 'end'})\n",
    "    \n",
    "    sentences_by_character = []\n",
    "    \n",
    "    for coref in corefs:\n",
    "        sentences_by_character += get_start_end_bytes_in_sentences(coref, coref2character, corefs_df, tokens_df, ses_df, text)\n",
    "        \n",
    "    return sentences_by_character"
   ]
  },
  {
   "cell_type": "code",
   "execution_count": 28,
   "id": "22cefd46-d725-4cba-9869-e4adf266559f",
   "metadata": {
    "tags": []
   },
   "outputs": [],
   "source": [
    "test = get_sentences_by_characters_table(corefs, coref2character, corefs_df, tokens_df, story_text_txt)"
   ]
  },
  {
   "cell_type": "code",
   "execution_count": 29,
   "id": "bccd3cfa-31d0-471c-80f4-547614355480",
   "metadata": {},
   "outputs": [],
   "source": [
    "sentences_by_character_df = pd.DataFrame(test).rename(columns = {0: 'coref_id', 1: 'character_name', 2: 'character_token', 3: 'sentence_id', 4: 'start_byte_in_sentence', 5: 'end_byte_in_sentence'})"
   ]
  },
  {
   "cell_type": "code",
   "execution_count": 30,
   "id": "4a5df086-2d4c-4c5f-8cc4-628c8b80a2d3",
   "metadata": {},
   "outputs": [
    {
     "data": {
      "text/html": [
       "<div>\n",
       "<style scoped>\n",
       "    .dataframe tbody tr th:only-of-type {\n",
       "        vertical-align: middle;\n",
       "    }\n",
       "\n",
       "    .dataframe tbody tr th {\n",
       "        vertical-align: top;\n",
       "    }\n",
       "\n",
       "    .dataframe thead th {\n",
       "        text-align: right;\n",
       "    }\n",
       "</style>\n",
       "<table border=\"1\" class=\"dataframe\">\n",
       "  <thead>\n",
       "    <tr style=\"text-align: right;\">\n",
       "      <th></th>\n",
       "      <th>coref_id</th>\n",
       "      <th>character_name</th>\n",
       "      <th>character_token</th>\n",
       "      <th>sentence_id</th>\n",
       "      <th>start_byte_in_sentence</th>\n",
       "      <th>end_byte_in_sentence</th>\n",
       "    </tr>\n",
       "  </thead>\n",
       "  <tbody>\n",
       "    <tr>\n",
       "      <th>0</th>\n",
       "      <td>17</td>\n",
       "      <td>an old bamboo wood - cutter</td>\n",
       "      <td>an old bamboo wood-cutter</td>\n",
       "      <td>0</td>\n",
       "      <td>28</td>\n",
       "      <td>53</td>\n",
       "    </tr>\n",
       "    <tr>\n",
       "      <th>1</th>\n",
       "      <td>17</td>\n",
       "      <td>an old bamboo wood - cutter</td>\n",
       "      <td>his</td>\n",
       "      <td>4</td>\n",
       "      <td>40</td>\n",
       "      <td>43</td>\n",
       "    </tr>\n",
       "    <tr>\n",
       "      <th>2</th>\n",
       "      <td>17</td>\n",
       "      <td>an old bamboo wood - cutter</td>\n",
       "      <td>he</td>\n",
       "      <td>8</td>\n",
       "      <td>19</td>\n",
       "      <td>21</td>\n",
       "    </tr>\n",
       "    <tr>\n",
       "      <th>3</th>\n",
       "      <td>17</td>\n",
       "      <td>an old bamboo wood - cutter</td>\n",
       "      <td>his</td>\n",
       "      <td>3</td>\n",
       "      <td>234</td>\n",
       "      <td>237</td>\n",
       "    </tr>\n",
       "    <tr>\n",
       "      <th>4</th>\n",
       "      <td>17</td>\n",
       "      <td>an old bamboo wood - cutter</td>\n",
       "      <td>his</td>\n",
       "      <td>7</td>\n",
       "      <td>37</td>\n",
       "      <td>40</td>\n",
       "    </tr>\n",
       "    <tr>\n",
       "      <th>...</th>\n",
       "      <td>...</td>\n",
       "      <td>...</td>\n",
       "      <td>...</td>\n",
       "      <td>...</td>\n",
       "      <td>...</td>\n",
       "      <td>...</td>\n",
       "    </tr>\n",
       "    <tr>\n",
       "      <th>884</th>\n",
       "      <td>354</td>\n",
       "      <td>the messengers</td>\n",
       "      <td>the messengers</td>\n",
       "      <td>235</td>\n",
       "      <td>30</td>\n",
       "      <td>44</td>\n",
       "    </tr>\n",
       "    <tr>\n",
       "      <th>885</th>\n",
       "      <td>355</td>\n",
       "      <td>charioteers</td>\n",
       "      <td>charioteers</td>\n",
       "      <td>235</td>\n",
       "      <td>49</td>\n",
       "      <td>60</td>\n",
       "    </tr>\n",
       "    <tr>\n",
       "      <th>886</th>\n",
       "      <td>362</td>\n",
       "      <td>the receding Princess</td>\n",
       "      <td>the receding Princess</td>\n",
       "      <td>237</td>\n",
       "      <td>104</td>\n",
       "      <td>125</td>\n",
       "    </tr>\n",
       "    <tr>\n",
       "      <th>887</th>\n",
       "      <td>369</td>\n",
       "      <td>the Royal emissaries</td>\n",
       "      <td>the Royal emissaries</td>\n",
       "      <td>240</td>\n",
       "      <td>22</td>\n",
       "      <td>42</td>\n",
       "    </tr>\n",
       "    <tr>\n",
       "      <th>888</th>\n",
       "      <td>370</td>\n",
       "      <td>people</td>\n",
       "      <td>people</td>\n",
       "      <td>241</td>\n",
       "      <td>15</td>\n",
       "      <td>21</td>\n",
       "    </tr>\n",
       "  </tbody>\n",
       "</table>\n",
       "<p>889 rows × 6 columns</p>\n",
       "</div>"
      ],
      "text/plain": [
       "     coref_id               character_name            character_token  \\\n",
       "0          17  an old bamboo wood - cutter  an old bamboo wood-cutter   \n",
       "1          17  an old bamboo wood - cutter                        his   \n",
       "2          17  an old bamboo wood - cutter                         he   \n",
       "3          17  an old bamboo wood - cutter                        his   \n",
       "4          17  an old bamboo wood - cutter                        his   \n",
       "..        ...                          ...                        ...   \n",
       "884       354               the messengers             the messengers   \n",
       "885       355                  charioteers                charioteers   \n",
       "886       362        the receding Princess      the receding Princess   \n",
       "887       369         the Royal emissaries       the Royal emissaries   \n",
       "888       370                       people                     people   \n",
       "\n",
       "     sentence_id  start_byte_in_sentence  end_byte_in_sentence  \n",
       "0              0                      28                    53  \n",
       "1              4                      40                    43  \n",
       "2              8                      19                    21  \n",
       "3              3                     234                   237  \n",
       "4              7                      37                    40  \n",
       "..           ...                     ...                   ...  \n",
       "884          235                      30                    44  \n",
       "885          235                      49                    60  \n",
       "886          237                     104                   125  \n",
       "887          240                      22                    42  \n",
       "888          241                      15                    21  \n",
       "\n",
       "[889 rows x 6 columns]"
      ]
     },
     "execution_count": 30,
     "metadata": {},
     "output_type": "execute_result"
    }
   ],
   "source": [
    "sentences_by_character_df"
   ]
  },
  {
   "cell_type": "code",
   "execution_count": 31,
   "id": "2e044070-624f-490d-824f-3dc3360738ff",
   "metadata": {},
   "outputs": [
    {
     "name": "stdout",
     "output_type": "stream",
     "text": [
      "coref_id                            25\n",
      "character_name            his old wife\n",
      "character_token           his old wife\n",
      "sentence_id                          3\n",
      "start_byte_in_sentence             234\n",
      "end_byte_in_sentence               246\n",
      "Name: 18, dtype: object\n"
     ]
    }
   ],
   "source": [
    "for i, row in sentences_by_character_df.iterrows():\n",
    "    if row['character_token'] == 'his old wife':\n",
    "        print(row)"
   ]
  },
  {
   "cell_type": "code",
   "execution_count": 32,
   "id": "ec243d87-27f5-4f5e-a391-2dfc80feb4d3",
   "metadata": {},
   "outputs": [
    {
     "data": {
      "text/html": [
       "<div>\n",
       "<style scoped>\n",
       "    .dataframe tbody tr th:only-of-type {\n",
       "        vertical-align: middle;\n",
       "    }\n",
       "\n",
       "    .dataframe tbody tr th {\n",
       "        vertical-align: top;\n",
       "    }\n",
       "\n",
       "    .dataframe thead th {\n",
       "        text-align: right;\n",
       "    }\n",
       "</style>\n",
       "<table border=\"1\" class=\"dataframe\">\n",
       "  <thead>\n",
       "    <tr style=\"text-align: right;\">\n",
       "      <th></th>\n",
       "      <th>coref_id</th>\n",
       "      <th>character_name</th>\n",
       "      <th>character_token</th>\n",
       "      <th>sentence_id</th>\n",
       "      <th>start_byte_in_sentence</th>\n",
       "      <th>end_byte_in_sentence</th>\n",
       "    </tr>\n",
       "  </thead>\n",
       "  <tbody>\n",
       "    <tr>\n",
       "      <th>3</th>\n",
       "      <td>17</td>\n",
       "      <td>an old bamboo wood - cutter</td>\n",
       "      <td>his</td>\n",
       "      <td>3</td>\n",
       "      <td>234</td>\n",
       "      <td>237</td>\n",
       "    </tr>\n",
       "    <tr>\n",
       "      <th>5</th>\n",
       "      <td>17</td>\n",
       "      <td>an old bamboo wood - cutter</td>\n",
       "      <td>he</td>\n",
       "      <td>3</td>\n",
       "      <td>227</td>\n",
       "      <td>229</td>\n",
       "    </tr>\n",
       "    <tr>\n",
       "      <th>6</th>\n",
       "      <td>17</td>\n",
       "      <td>an old bamboo wood - cutter</td>\n",
       "      <td>he</td>\n",
       "      <td>3</td>\n",
       "      <td>29</td>\n",
       "      <td>31</td>\n",
       "    </tr>\n",
       "    <tr>\n",
       "      <th>7</th>\n",
       "      <td>17</td>\n",
       "      <td>an old bamboo wood - cutter</td>\n",
       "      <td>he</td>\n",
       "      <td>3</td>\n",
       "      <td>5</td>\n",
       "      <td>7</td>\n",
       "    </tr>\n",
       "    <tr>\n",
       "      <th>11</th>\n",
       "      <td>17</td>\n",
       "      <td>an old bamboo wood - cutter</td>\n",
       "      <td>his</td>\n",
       "      <td>3</td>\n",
       "      <td>17</td>\n",
       "      <td>20</td>\n",
       "    </tr>\n",
       "    <tr>\n",
       "      <th>18</th>\n",
       "      <td>25</td>\n",
       "      <td>his old wife</td>\n",
       "      <td>his old wife</td>\n",
       "      <td>3</td>\n",
       "      <td>234</td>\n",
       "      <td>246</td>\n",
       "    </tr>\n",
       "  </tbody>\n",
       "</table>\n",
       "</div>"
      ],
      "text/plain": [
       "    coref_id               character_name character_token  sentence_id  \\\n",
       "3         17  an old bamboo wood - cutter             his            3   \n",
       "5         17  an old bamboo wood - cutter              he            3   \n",
       "6         17  an old bamboo wood - cutter              he            3   \n",
       "7         17  an old bamboo wood - cutter              he            3   \n",
       "11        17  an old bamboo wood - cutter             his            3   \n",
       "18        25                 his old wife    his old wife            3   \n",
       "\n",
       "    start_byte_in_sentence  end_byte_in_sentence  \n",
       "3                      234                   237  \n",
       "5                      227                   229  \n",
       "6                       29                    31  \n",
       "7                        5                     7  \n",
       "11                      17                    20  \n",
       "18                     234                   246  "
      ]
     },
     "execution_count": 32,
     "metadata": {},
     "output_type": "execute_result"
    }
   ],
   "source": [
    "sentences_by_character_df[sentences_by_character_df['sentence_id'] == 3]"
   ]
  },
  {
   "cell_type": "code",
   "execution_count": 33,
   "id": "ea7ac1c4-1542-4e99-b797-e0322d97e793",
   "metadata": {},
   "outputs": [],
   "source": [
    "def get_pos_from_character_tokens(character_tokens):\n",
    "    pos = pos_tag(character_tokens.split(' '))\n",
    "    if len(pos) == 1:\n",
    "        if (pos[0][1] == 'PRP$') or (pos[0][0][-2:] == \"'s\") or (pos[0][0][-2:] == \"'\"):\n",
    "            return 'possessive'\n",
    "        else:\n",
    "            return 'noun'\n",
    "    else:\n",
    "        return 'noun'"
   ]
  },
  {
   "cell_type": "code",
   "execution_count": 34,
   "id": "d8d2c84a-1084-4321-a464-18c9a3a1cad2",
   "metadata": {},
   "outputs": [
    {
     "data": {
      "text/plain": [
       "'noun'"
      ]
     },
     "execution_count": 34,
     "metadata": {},
     "output_type": "execute_result"
    }
   ],
   "source": [
    "get_pos_from_character_tokens(\"his old wife\")"
   ]
  },
  {
   "cell_type": "code",
   "execution_count": 35,
   "id": "db9995e0-c774-45cb-b52e-5fc1c6dfb7d2",
   "metadata": {},
   "outputs": [
    {
     "data": {
      "text/plain": [
       "'possessive'"
      ]
     },
     "execution_count": 35,
     "metadata": {},
     "output_type": "execute_result"
    }
   ],
   "source": [
    "get_pos_from_character_tokens(\"Paulina's\")"
   ]
  },
  {
   "cell_type": "code",
   "execution_count": 36,
   "id": "5f58e884-5839-4460-8953-691a6a283afd",
   "metadata": {},
   "outputs": [
    {
     "data": {
      "text/plain": [
       "'possessive'"
      ]
     },
     "execution_count": 36,
     "metadata": {},
     "output_type": "execute_result"
    }
   ],
   "source": [
    "get_pos_from_character_tokens(\"his\")"
   ]
  },
  {
   "cell_type": "code",
   "execution_count": 37,
   "id": "f469a866-5cc2-4d95-960d-978dc97f9ba9",
   "metadata": {},
   "outputs": [
    {
     "data": {
      "text/plain": [
       "[('he', 'PRP'), ('killed', 'VBD'), ('his', 'PRP$'), ('family', 'NN')]"
      ]
     },
     "execution_count": 37,
     "metadata": {},
     "output_type": "execute_result"
    }
   ],
   "source": [
    "pos_tag(\"he killed his family\".split(' '))"
   ]
  },
  {
   "cell_type": "code",
   "execution_count": 38,
   "id": "9da9f974-ce18-4df5-80d6-eade60314227",
   "metadata": {},
   "outputs": [
    {
     "data": {
      "text/plain": [
       "[('he', 'PRP'), ('killed', 'VBD'), ('her', 'PRP')]"
      ]
     },
     "execution_count": 38,
     "metadata": {},
     "output_type": "execute_result"
    }
   ],
   "source": [
    "pos_tag(\"he killed her\".split(' '))"
   ]
  },
  {
   "cell_type": "code",
   "execution_count": 39,
   "id": "8082c65e-c97b-4a5f-9ea5-b46659f22d3b",
   "metadata": {},
   "outputs": [
    {
     "data": {
      "text/plain": [
       "[('he', 'PRP'), ('killed', 'VBD'), ('her', 'PRP'), ('family', 'NN')]"
      ]
     },
     "execution_count": 39,
     "metadata": {},
     "output_type": "execute_result"
    }
   ],
   "source": [
    "pos_tag(\"he killed her family\".split(' '))"
   ]
  },
  {
   "cell_type": "code",
   "execution_count": 40,
   "id": "2a10395d-f993-472c-9b7c-ea0f2a1fb7f5",
   "metadata": {},
   "outputs": [],
   "source": [
    "def check_overlapping_spans(row, spans):\n",
    "    curr_span = (row['start_byte_in_sentence'], row['end_byte_in_sentence'])\n",
    "    spans_c = spans.copy()\n",
    "    spans_c.remove(curr_span)\n",
    "    for span in spans_c:\n",
    "        if (curr_span[0] >= span[0]) and (curr_span[1] <= span[1]):\n",
    "            return 1\n",
    "    return 0"
   ]
  },
  {
   "cell_type": "code",
   "execution_count": 41,
   "id": "3d79fe7f-8e46-4b0c-b4bb-b497764f246a",
   "metadata": {},
   "outputs": [],
   "source": [
    "def check_if_coref_possessive(sentence_character_df: pd.DataFrame):\n",
    "    if len(sentence_character_df) > 0:\n",
    "        byte_start_ends_dict = sentence_character_df[['start_byte_in_sentence', 'end_byte_in_sentence']].to_dict('records')\n",
    "        byte_start_ends = [(row['start_byte_in_sentence'], row['end_byte_in_sentence']) for row in byte_start_ends_dict]\n",
    "        return sentence_character_df.apply(check_overlapping_spans, spans = byte_start_ends, axis = 1) "
   ]
  },
  {
   "cell_type": "code",
   "execution_count": 42,
   "id": "bbd8341b-da74-448f-9c32-5343f1401bfd",
   "metadata": {},
   "outputs": [],
   "source": [
    "test = sentences_by_character_df[sentences_by_character_df['sentence_id'] == 3]"
   ]
  },
  {
   "cell_type": "code",
   "execution_count": 43,
   "id": "fce7847e-ea54-4729-9f07-1d54ed290370",
   "metadata": {},
   "outputs": [
    {
     "data": {
      "text/plain": [
       "3     1\n",
       "5     0\n",
       "6     0\n",
       "7     0\n",
       "11    0\n",
       "18    0\n",
       "dtype: int64"
      ]
     },
     "execution_count": 43,
     "metadata": {},
     "output_type": "execute_result"
    }
   ],
   "source": [
    "check_if_coref_possessive(test)"
   ]
  },
  {
   "cell_type": "code",
   "execution_count": 44,
   "id": "4c663d60-3a71-43ce-863f-3a4ccee046e8",
   "metadata": {},
   "outputs": [],
   "source": [
    "series = check_if_coref_possessive(test)"
   ]
  },
  {
   "cell_type": "code",
   "execution_count": 45,
   "id": "c429b76c-54b6-49c3-be7e-4b81f84b7af0",
   "metadata": {},
   "outputs": [],
   "source": [
    "test = sentences_by_character_df[sentences_by_character_df['sentence_id'] == 4]"
   ]
  },
  {
   "cell_type": "code",
   "execution_count": 46,
   "id": "db7a6616-d278-4620-aaa9-eea151a498e4",
   "metadata": {},
   "outputs": [],
   "source": [
    "series_2 = check_if_coref_possessive(test)"
   ]
  },
  {
   "cell_type": "code",
   "execution_count": 47,
   "id": "7282e4ac-6b96-448e-8f1f-3b2b029352eb",
   "metadata": {},
   "outputs": [
    {
     "data": {
      "text/plain": [
       "3     1\n",
       "5     0\n",
       "6     0\n",
       "7     0\n",
       "11    0\n",
       "18    0\n",
       "1     0\n",
       "12    0\n",
       "dtype: int64"
      ]
     },
     "execution_count": 47,
     "metadata": {},
     "output_type": "execute_result"
    }
   ],
   "source": [
    "pd.concat([series, series_2])"
   ]
  },
  {
   "cell_type": "code",
   "execution_count": 48,
   "id": "f95a7b32-82a7-44e3-958f-af3bb731dd83",
   "metadata": {},
   "outputs": [
    {
     "data": {
      "text/plain": [
       "coref_id                                           17\n",
       "character_name            an old bamboo wood - cutter\n",
       "character_token                                   his\n",
       "sentence_id                                         3\n",
       "start_byte_in_sentence                             17\n",
       "end_byte_in_sentence                               20\n",
       "Name: 11, dtype: object"
      ]
     },
     "execution_count": 48,
     "metadata": {},
     "output_type": "execute_result"
    }
   ],
   "source": [
    "sentences_by_character_df.loc[11, :]"
   ]
  },
  {
   "cell_type": "code",
   "execution_count": 49,
   "id": "fc12fbd0-fd51-4507-a3f6-6e9b12472286",
   "metadata": {},
   "outputs": [
    {
     "data": {
      "text/plain": [
       "coref_id                                    306\n",
       "character_name            two thousand warriors\n",
       "character_token           two thousand warriors\n",
       "sentence_id                                 199\n",
       "start_byte_in_sentence                       63\n",
       "end_byte_in_sentence                         84\n",
       "Name: 855, dtype: object"
      ]
     },
     "execution_count": 49,
     "metadata": {},
     "output_type": "execute_result"
    }
   ],
   "source": [
    "sentences_by_character_df.iloc[855]"
   ]
  },
  {
   "cell_type": "code",
   "execution_count": 50,
   "id": "b6377cbe-7c8e-495e-b129-6e8b9d00777f",
   "metadata": {},
   "outputs": [],
   "source": [
    "sentences = split_sentences(story_text_txt)"
   ]
  },
  {
   "cell_type": "code",
   "execution_count": 51,
   "id": "c9014f9b-013f-42b6-8c7e-40194291e7ca",
   "metadata": {},
   "outputs": [
    {
     "data": {
      "text/plain": [
       "'So to this day people say there is smoke to be seen rising from the top of Mount Fuji to the clouds.'"
      ]
     },
     "execution_count": 51,
     "metadata": {},
     "output_type": "execute_result"
    }
   ],
   "source": [
    "sentences[241]"
   ]
  },
  {
   "cell_type": "code",
   "execution_count": 52,
   "id": "095ade98-83c2-4a3d-8e0d-fb98b7c30711",
   "metadata": {},
   "outputs": [
    {
     "data": {
      "text/plain": [
       "'people'"
      ]
     },
     "execution_count": 52,
     "metadata": {},
     "output_type": "execute_result"
    }
   ],
   "source": [
    "sentences[241][15:21]"
   ]
  },
  {
   "cell_type": "code",
   "execution_count": 53,
   "id": "211730e4-c8d1-46a2-9d43-7ba890c07b36",
   "metadata": {},
   "outputs": [
    {
     "data": {
      "text/plain": [
       "coref_id                           29\n",
       "character_name            the old man\n",
       "character_token                   His\n",
       "sentence_id                       239\n",
       "start_byte_in_sentence              0\n",
       "end_byte_in_sentence                3\n",
       "Name: 100, dtype: object"
      ]
     },
     "execution_count": 53,
     "metadata": {},
     "output_type": "execute_result"
    }
   ],
   "source": [
    "sentences_by_character_df.iloc[100]"
   ]
  },
  {
   "cell_type": "code",
   "execution_count": 54,
   "id": "a46da686-3b5e-4b09-a59b-282a4940b7d1",
   "metadata": {},
   "outputs": [
    {
     "data": {
      "text/plain": [
       "'\"I pray you to look elsewhere.\"'"
      ]
     },
     "execution_count": 54,
     "metadata": {},
     "output_type": "execute_result"
    }
   ],
   "source": [
    "sentences[221]"
   ]
  },
  {
   "cell_type": "code",
   "execution_count": 55,
   "id": "d2ce011e-a99e-485f-9470-20fec2a3eb4a",
   "metadata": {},
   "outputs": [
    {
     "data": {
      "text/html": [
       "<div>\n",
       "<style scoped>\n",
       "    .dataframe tbody tr th:only-of-type {\n",
       "        vertical-align: middle;\n",
       "    }\n",
       "\n",
       "    .dataframe tbody tr th {\n",
       "        vertical-align: top;\n",
       "    }\n",
       "\n",
       "    .dataframe thead th {\n",
       "        text-align: right;\n",
       "    }\n",
       "</style>\n",
       "<table border=\"1\" class=\"dataframe\">\n",
       "  <thead>\n",
       "    <tr style=\"text-align: right;\">\n",
       "      <th></th>\n",
       "      <th>coref_id</th>\n",
       "      <th>character_name</th>\n",
       "      <th>character_token</th>\n",
       "      <th>sentence_id</th>\n",
       "      <th>start_byte_in_sentence</th>\n",
       "      <th>end_byte_in_sentence</th>\n",
       "    </tr>\n",
       "  </thead>\n",
       "  <tbody>\n",
       "    <tr>\n",
       "      <th>0</th>\n",
       "      <td>17</td>\n",
       "      <td>an old bamboo wood - cutter</td>\n",
       "      <td>an old bamboo wood-cutter</td>\n",
       "      <td>0</td>\n",
       "      <td>28</td>\n",
       "      <td>53</td>\n",
       "    </tr>\n",
       "  </tbody>\n",
       "</table>\n",
       "</div>"
      ],
      "text/plain": [
       "   coref_id               character_name            character_token  \\\n",
       "0        17  an old bamboo wood - cutter  an old bamboo wood-cutter   \n",
       "\n",
       "   sentence_id  start_byte_in_sentence  end_byte_in_sentence  \n",
       "0            0                      28                    53  "
      ]
     },
     "execution_count": 55,
     "metadata": {},
     "output_type": "execute_result"
    }
   ],
   "source": [
    "sentences_by_character_df[sentences_by_character_df['sentence_id'] == 0]"
   ]
  },
  {
   "cell_type": "code",
   "execution_count": 60,
   "id": "efe3ed47-7504-4832-8b8f-7543f4cfb9c7",
   "metadata": {
    "tags": []
   },
   "outputs": [],
   "source": [
    "def bookNLP_to_sentences_csv(entities_file, tokens_file, story_txt_file, output_sentences_file, output_sentences_by_characters_file):\n",
    "    entities_df = pd.read_csv(entities_file, sep='\\t')\n",
    "    tokens_df = pd.read_csv(tokens_file, delimiter = '\\t')\n",
    "    story_text = read_story_txt_file(story_txt_file)\n",
    "    \n",
    "    characters_df = entities_df[entities_df['cat'] == 'PER']\n",
    "    \n",
    "    # All corefs\n",
    "    corefs = characters_df['COREF'].unique()\n",
    "    \n",
    "    # All valid corefs (no corefs with only pronouns or possessives)\n",
    "    coref2character = get_coref_character_names(corefs, characters_df) \n",
    "    corefs = coref2character.keys()\n",
    "        \n",
    "    corefs_df = characters_df[characters_df['COREF'].isin(corefs)][['COREF', 'start_token', 'end_token', 'text']].sort_values(by = 'COREF')\n",
    "    \n",
    "    start_end_sentences = get_start_end_bytes_of_sentences(story_text)\n",
    "    sentences_df = pd.DataFrame(start_end_sentences).reset_index().rename(columns = {'index': 'sentence_id', 0: 'text', 1: 'start', 2: 'end'})\n",
    "\n",
    "    sentences_by_character = get_sentences_by_characters_table(corefs, coref2character, corefs_df, tokens_df, story_text)\n",
    "    \n",
    "    sentences_by_character_df = pd.DataFrame(sentences_by_character).rename(columns = {0: 'coref_id', \n",
    "                                                                     1: 'character_name', \n",
    "                                                                     2: 'character_token', \n",
    "                                                                     3: 'sentence_id', \n",
    "                                                                     4: 'start_byte_in_sentence', \n",
    "                                                                     5: 'end_byte_in_sentence'})\n",
    "    \n",
    "    overlaps_series_all = []\n",
    "    for i in range(len(sentences)):\n",
    "        sentence_by_character_df = sentences_by_character_df.loc[sentences_by_character_df['sentence_id'] == i]\n",
    "        overlap_series = check_if_coref_possessive(sentence_by_character_df)\n",
    "        overlaps_series_all.append(overlap_series)\n",
    "                \n",
    "    sentences_by_character_df = sentences_by_character_df.merge(pd.concat(overlaps_series_all).rename('overlap'), left_index=True, right_index=True)\n",
    "\n",
    "    # sentences_df.to_csv(output_sentences_file, index = False)\n",
    "    print(\"CSV of sentences saved to path: {}\".format(output_sentences_file))\n",
    "    # sentences_by_character_df.to_csv(output_sentences_by_characters_file, index = False)\n",
    "    print(\"CSV of sentences by character saved to path: {}\".format(output_sentences_by_characters_file))"
   ]
  },
  {
   "cell_type": "markdown",
   "id": "1212fbb2-3cb0-4dd2-9788-69a5a6ea1aaa",
   "metadata": {},
   "source": [
    "### Running"
   ]
  },
  {
   "cell_type": "code",
   "execution_count": 57,
   "id": "56d6f466-238b-4301-ac9f-c13980abf7c7",
   "metadata": {
    "tags": []
   },
   "outputs": [],
   "source": [
    "story_path = '/Users/pti/challenges/4761_fair_fairytale/fair-fairytale-nlp/data/testing_subset/story_txts/bamboo-cutter-moon-child.txt'\n",
    "tokens_path = '/Users/pti/challenges/4761_fair_fairytale/fair-fairytale-nlp/data/testing_subset/booknlp_GX/bamboo-cutter-moon-child/bamboo-cutter-moon-child.tokens'\n",
    "entities_path = '/Users/pti/challenges/4761_fair_fairytale/fair-fairytale-nlp/data/testing_subset/booknlp_GX/bamboo-cutter-moon-child/bamboo-cutter-moon-child.entities'\n",
    "output_characters_path = '/Users/pti/challenges/4761_fair_fairytale/fair-fairytale-nlp/data/pipeline/sentences_by_character/bamboo-cutter-moon-child.sentences_characters.csv'\n",
    "output_sentences_path = '/Users/pti/challenges/4761_fair_fairytale/fair-fairytale-nlp/data/pipeline/sentences/bamboo-cutter-moon-child.sentences.csv'"
   ]
  },
  {
   "cell_type": "code",
   "execution_count": 61,
   "id": "c056e582-d2fe-489e-b763-5237819d4f55",
   "metadata": {},
   "outputs": [
    {
     "name": "stdout",
     "output_type": "stream",
     "text": [
      "165\n",
      "889\n",
      "16\n",
      "1\n",
      "1\n",
      "1\n",
      "1\n",
      "3\n",
      "105\n",
      "1\n",
      "4\n",
      "3\n",
      "1\n",
      "10\n",
      "1\n",
      "1\n",
      "1\n",
      "1\n",
      "13\n",
      "1\n",
      "5\n",
      "1\n",
      "1\n",
      "2\n",
      "1\n",
      "1\n",
      "1\n",
      "99\n",
      "1\n",
      "1\n",
      "1\n",
      "1\n",
      "1\n",
      "154\n",
      "1\n",
      "1\n",
      "10\n",
      "1\n",
      "1\n",
      "1\n",
      "2\n",
      "1\n",
      "14\n",
      "2\n",
      "1\n",
      "7\n",
      "1\n",
      "22\n",
      "1\n",
      "4\n",
      "13\n",
      "1\n",
      "2\n",
      "1\n",
      "2\n",
      "1\n",
      "1\n",
      "1\n",
      "1\n",
      "2\n",
      "3\n",
      "1\n",
      "1\n",
      "1\n",
      "1\n",
      "2\n",
      "1\n",
      "1\n",
      "4\n",
      "1\n",
      "4\n",
      "2\n",
      "2\n",
      "2\n",
      "19\n",
      "1\n",
      "1\n",
      "10\n",
      "3\n",
      "1\n",
      "64\n",
      "3\n",
      "9\n",
      "1\n",
      "1\n",
      "1\n",
      "1\n",
      "32\n",
      "1\n",
      "1\n",
      "2\n",
      "1\n",
      "5\n",
      "1\n",
      "1\n",
      "8\n",
      "1\n",
      "3\n",
      "4\n",
      "1\n",
      "2\n",
      "1\n",
      "1\n",
      "1\n",
      "4\n",
      "1\n",
      "1\n",
      "1\n",
      "2\n",
      "6\n",
      "1\n",
      "1\n",
      "2\n",
      "4\n",
      "1\n",
      "3\n",
      "52\n",
      "1\n",
      "1\n",
      "1\n",
      "1\n",
      "1\n",
      "1\n",
      "1\n",
      "1\n",
      "1\n",
      "1\n",
      "1\n",
      "1\n",
      "3\n",
      "1\n",
      "1\n",
      "3\n",
      "1\n",
      "1\n",
      "8\n",
      "1\n",
      "3\n",
      "2\n",
      "1\n",
      "1\n",
      "2\n",
      "1\n",
      "1\n",
      "1\n",
      "1\n",
      "3\n",
      "1\n",
      "1\n",
      "1\n",
      "1\n",
      "5\n",
      "1\n",
      "1\n",
      "1\n",
      "1\n",
      "2\n",
      "1\n",
      "1\n",
      "2\n",
      "1\n",
      "1\n",
      "1\n",
      "1\n",
      "1\n",
      "1\n",
      "1\n",
      "CSV of sentences saved to path: /Users/pti/challenges/4761_fair_fairytale/fair-fairytale-nlp/data/pipeline/sentences/bamboo-cutter-moon-child.sentences.csv\n",
      "CSV of sentences by character saved to path: /Users/pti/challenges/4761_fair_fairytale/fair-fairytale-nlp/data/pipeline/sentences_by_character/bamboo-cutter-moon-child.sentences_characters.csv\n"
     ]
    }
   ],
   "source": [
    "bookNLP_to_sentences_csv(entities_path, tokens_path, story_path, output_sentences_path, output_characters_path)"
   ]
  },
  {
   "cell_type": "markdown",
   "id": "d9798082-7a4d-4169-81b8-ec0045842bab",
   "metadata": {
    "tags": []
   },
   "source": [
    "#### Testing Subset"
   ]
  },
  {
   "cell_type": "code",
   "execution_count": 59,
   "id": "ff44a6fe-d214-474a-8e81-571e11da98e7",
   "metadata": {},
   "outputs": [],
   "source": [
    "book_ids = ['cinderella-or-the-little-glass-slipper', 'ali-baba-and-forty-thieves', 'old-dschang', 'leelinau-the-lost-daughter', 'the-dragon-princess']"
   ]
  },
  {
   "cell_type": "code",
   "execution_count": 61,
   "id": "5eb1ea03-8aa7-40a8-a9e6-b7841bc76a3e",
   "metadata": {},
   "outputs": [
    {
     "name": "stdout",
     "output_type": "stream",
     "text": [
      "CSV of sentences saved to path: /Users/pti/challenges/4761_fair_fairytale/fair-fairytale-nlp/data/pipeline/sentences/cinderella-or-the-little-glass-slipper.sentences.csv\n",
      "CSV of sentences by character saved to path: /Users/pti/challenges/4761_fair_fairytale/fair-fairytale-nlp/data/pipeline/sentences_by_character/cinderella-or-the-little-glass-slipper.sentences_characters.csv\n",
      "CSV of sentences saved to path: /Users/pti/challenges/4761_fair_fairytale/fair-fairytale-nlp/data/pipeline/sentences/ali-baba-and-forty-thieves.sentences.csv\n",
      "CSV of sentences by character saved to path: /Users/pti/challenges/4761_fair_fairytale/fair-fairytale-nlp/data/pipeline/sentences_by_character/ali-baba-and-forty-thieves.sentences_characters.csv\n",
      "CSV of sentences saved to path: /Users/pti/challenges/4761_fair_fairytale/fair-fairytale-nlp/data/pipeline/sentences/old-dschang.sentences.csv\n",
      "CSV of sentences by character saved to path: /Users/pti/challenges/4761_fair_fairytale/fair-fairytale-nlp/data/pipeline/sentences_by_character/old-dschang.sentences_characters.csv\n",
      "CSV of sentences saved to path: /Users/pti/challenges/4761_fair_fairytale/fair-fairytale-nlp/data/pipeline/sentences/leelinau-the-lost-daughter.sentences.csv\n",
      "CSV of sentences by character saved to path: /Users/pti/challenges/4761_fair_fairytale/fair-fairytale-nlp/data/pipeline/sentences_by_character/leelinau-the-lost-daughter.sentences_characters.csv\n",
      "CSV of sentences saved to path: /Users/pti/challenges/4761_fair_fairytale/fair-fairytale-nlp/data/pipeline/sentences/the-dragon-princess.sentences.csv\n",
      "CSV of sentences by character saved to path: /Users/pti/challenges/4761_fair_fairytale/fair-fairytale-nlp/data/pipeline/sentences_by_character/the-dragon-princess.sentences_characters.csv\n"
     ]
    }
   ],
   "source": [
    "for book_id in book_ids:\n",
    "    story_path = '/Users/pti/challenges/4761_fair_fairytale/fair-fairytale-nlp/data/testing_subset/story_txts/' + book_id + '.txt'\n",
    "    \n",
    "    input_dir = '/Users/pti/challenges/4761_fair_fairytale/fair-fairytale-nlp/data/testing_subset/booknlp_GX/' + book_id + '/'\n",
    "    tokens_path = input_dir + book_id + '.tokens'\n",
    "    entities_path = input_dir + book_id + '.entities'\n",
    "    \n",
    "    output_characters_path = '/Users/pti/challenges/4761_fair_fairytale/fair-fairytale-nlp/data/pipeline/sentences_by_character/' + book_id + '.sentences_characters.csv'\n",
    "    output_sentences_path = '/Users/pti/challenges/4761_fair_fairytale/fair-fairytale-nlp/data/pipeline/sentences/' + book_id + '.sentences.csv'\n",
    "    \n",
    "    bookNLP_to_sentences_csv(entities_path, tokens_path, story_path, output_sentences_path, output_characters_path)"
   ]
  },
  {
   "cell_type": "code",
   "execution_count": 62,
   "id": "87591835-d5bf-4bc5-ad72-d0bf6387038a",
   "metadata": {},
   "outputs": [],
   "source": [
    "sent_char_df = pd.read_csv('/Users/pti/challenges/4761_fair_fairytale/fair-fairytale-nlp/data/pipeline/sentences_by_character/cinderella-or-the-little-glass-slipper.sentences_characters.csv')"
   ]
  },
  {
   "cell_type": "code",
   "execution_count": 63,
   "id": "7faa4360-b21f-416c-8acf-63999f786b51",
   "metadata": {},
   "outputs": [],
   "source": [
    "sent_df = pd.read_csv('/Users/pti/challenges/4761_fair_fairytale/fair-fairytale-nlp/data/pipeline/sentences/cinderella-or-the-little-glass-slipper.sentences.csv')"
   ]
  },
  {
   "cell_type": "code",
   "execution_count": 64,
   "id": "be984e81-7818-49f2-8f03-5bcef3855ce3",
   "metadata": {},
   "outputs": [
    {
     "data": {
      "text/html": [
       "<div>\n",
       "<style scoped>\n",
       "    .dataframe tbody tr th:only-of-type {\n",
       "        vertical-align: middle;\n",
       "    }\n",
       "\n",
       "    .dataframe tbody tr th {\n",
       "        vertical-align: top;\n",
       "    }\n",
       "\n",
       "    .dataframe thead th {\n",
       "        text-align: right;\n",
       "    }\n",
       "</style>\n",
       "<table border=\"1\" class=\"dataframe\">\n",
       "  <thead>\n",
       "    <tr style=\"text-align: right;\">\n",
       "      <th></th>\n",
       "      <th>coref_id</th>\n",
       "      <th>character_name</th>\n",
       "      <th>character_token</th>\n",
       "      <th>sentence_id</th>\n",
       "      <th>start_byte_in_sentence</th>\n",
       "      <th>end_byte_in_sentence</th>\n",
       "      <th>overlap</th>\n",
       "    </tr>\n",
       "  </thead>\n",
       "  <tbody>\n",
       "    <tr>\n",
       "      <th>0</th>\n",
       "      <td>3</td>\n",
       "      <td>a gentleman who married , for his second wife</td>\n",
       "      <td>He</td>\n",
       "      <td>2</td>\n",
       "      <td>0</td>\n",
       "      <td>2</td>\n",
       "      <td>0</td>\n",
       "    </tr>\n",
       "    <tr>\n",
       "      <th>1</th>\n",
       "      <td>3</td>\n",
       "      <td>a gentleman who married , for his second wife</td>\n",
       "      <td>his</td>\n",
       "      <td>0</td>\n",
       "      <td>44</td>\n",
       "      <td>47</td>\n",
       "      <td>1</td>\n",
       "    </tr>\n",
       "    <tr>\n",
       "      <th>2</th>\n",
       "      <td>3</td>\n",
       "      <td>a gentleman who married , for his second wife</td>\n",
       "      <td>a gentleman who married, for his second wife</td>\n",
       "      <td>0</td>\n",
       "      <td>15</td>\n",
       "      <td>59</td>\n",
       "      <td>0</td>\n",
       "    </tr>\n",
       "    <tr>\n",
       "      <th>3</th>\n",
       "      <td>4</td>\n",
       "      <td>his second wife</td>\n",
       "      <td>his second wife</td>\n",
       "      <td>0</td>\n",
       "      <td>44</td>\n",
       "      <td>59</td>\n",
       "      <td>1</td>\n",
       "    </tr>\n",
       "    <tr>\n",
       "      <th>4</th>\n",
       "      <td>4</td>\n",
       "      <td>his second wife</td>\n",
       "      <td>her</td>\n",
       "      <td>2</td>\n",
       "      <td>126</td>\n",
       "      <td>129</td>\n",
       "      <td>1</td>\n",
       "    </tr>\n",
       "  </tbody>\n",
       "</table>\n",
       "</div>"
      ],
      "text/plain": [
       "   coref_id                                 character_name  \\\n",
       "0         3  a gentleman who married , for his second wife   \n",
       "1         3  a gentleman who married , for his second wife   \n",
       "2         3  a gentleman who married , for his second wife   \n",
       "3         4                                his second wife   \n",
       "4         4                                his second wife   \n",
       "\n",
       "                                character_token  sentence_id  \\\n",
       "0                                            He            2   \n",
       "1                                           his            0   \n",
       "2  a gentleman who married, for his second wife            0   \n",
       "3                               his second wife            0   \n",
       "4                                           her            2   \n",
       "\n",
       "   start_byte_in_sentence  end_byte_in_sentence  overlap  \n",
       "0                       0                     2        0  \n",
       "1                      44                    47        1  \n",
       "2                      15                    59        0  \n",
       "3                      44                    59        1  \n",
       "4                     126                   129        1  "
      ]
     },
     "execution_count": 64,
     "metadata": {},
     "output_type": "execute_result"
    }
   ],
   "source": [
    "sent_char_df.head()"
   ]
  },
  {
   "cell_type": "code",
   "execution_count": 65,
   "id": "e4aaf586-f650-4a77-a99f-59431e53f9c5",
   "metadata": {},
   "outputs": [
    {
     "data": {
      "text/plain": [
       "(460, 7)"
      ]
     },
     "execution_count": 65,
     "metadata": {},
     "output_type": "execute_result"
    }
   ],
   "source": [
    "sent_char_df.shape"
   ]
  },
  {
   "cell_type": "code",
   "execution_count": 66,
   "id": "cf086b29-a82b-48a9-8a0e-81e635354592",
   "metadata": {},
   "outputs": [
    {
     "data": {
      "text/plain": [
       "coref_id                                            104\n",
       "character_name            The guards at the palace gate\n",
       "character_token                                    they\n",
       "sentence_id                                         107\n",
       "start_byte_in_sentence                               45\n",
       "end_byte_in_sentence                                 49\n",
       "overlap                                               0\n",
       "Name: 442, dtype: object"
      ]
     },
     "execution_count": 66,
     "metadata": {},
     "output_type": "execute_result"
    }
   ],
   "source": [
    "sent_char_df.iloc[442]"
   ]
  },
  {
   "cell_type": "code",
   "execution_count": 67,
   "id": "a7d35032-2b0a-42e6-8aee-cb388d5bea42",
   "metadata": {},
   "outputs": [],
   "source": [
    "sentences = sent_df['text'].tolist()"
   ]
  },
  {
   "cell_type": "code",
   "execution_count": 68,
   "id": "b058d681-f951-4b70-bdbe-f65bede68b1c",
   "metadata": {},
   "outputs": [
    {
     "data": {
      "text/plain": [
       "'Cinderella, who was no less good than beautiful, gave her two sisters lodgings in the palace, and that very same day matched them with two great lords of the Court.'"
      ]
     },
     "execution_count": 68,
     "metadata": {},
     "output_type": "execute_result"
    }
   ],
   "source": [
    "sentences[127]"
   ]
  },
  {
   "cell_type": "code",
   "execution_count": 69,
   "id": "bf222d3e-7dd7-4c52-9915-b347a62b550a",
   "metadata": {},
   "outputs": [
    {
     "data": {
      "text/plain": [
       "'two great lords of the Court'"
      ]
     },
     "execution_count": 69,
     "metadata": {},
     "output_type": "execute_result"
    }
   ],
   "source": [
    "sentences[127][135:163]"
   ]
  },
  {
   "cell_type": "code",
   "execution_count": 70,
   "id": "7eeef1bb-97c1-4e31-b020-47c338301cf3",
   "metadata": {},
   "outputs": [
    {
     "name": "stdout",
     "output_type": "stream",
     "text": [
      "5 She employed her in the meanest work of the house: she scoured the dishes, tables, etc., and scrubbed madam's chamber, and those of misses, her daughters; \n",
      "7 The poor girl bore all patiently, and dared not tell her father, who would have rattled her off; \n",
      "9 When she had done her work, she used to go into the chimney-corner, and sit down among cinders and ashes, which made her commonly be called Cinderwench; \n",
      "15 This was a new trouble to Cinderella; \n",
      "16  for it was she who ironed her sisters' linen, and plaited their ruffles; \n",
      "19 \"And I,\" said the youngest, \"shall have my usual petticoat; \n",
      "25 said she, \"you only jeer me; \n",
      "27 \"You are in the right of it,\" replied they; \n",
      "31 At last the happy day came; \n",
      "34 \"I wish I could-I wish I could-\";\n",
      "36 This godmother of hers, who was a fairy, said to her, \"You wish you could go to the ball; \n",
      "42 Her godmother scooped out all the inside of it, having left nothing but the rind; \n",
      "46 \"You are in the right,\" replied her godmother; \n",
      "52 The Fairy then said to Cinderella: \"Well, you see here an equipage fit to go to the ball with; \n",
      "55 yes,\" cried she; \n",
      "59 Being thus decked out, she got up into her coach; \n",
      "61 She promised her godmother she would not fail of leaving the ball before midnight; \n",
      "63 The King's son who was told that a great princess, whom nobody knew, was come, ran out to receive her; \n",
      "72 The King's son conducted her to the most honorable seat, and afterward took her out to dance with him; \n",
      "80 cried she, gaping, rubbing her eyes and stretching herself as if she had been just waked out of her sleep; \n",
      "83 There came there the finest princess, the most beautiful ever was seen with mortal eyes; \n",
      "85 Cinderella seemed very indifferent in the matter; \n",
      "86  indeed, she asked them the name of that princess; \n",
      "88 At this Cinderella, smiling, replied: \"She must, then, be very beautiful indeed; \n",
      "94 cried Miss Charlotte; \n",
      "97 Cinderella, indeed, expected well such answer, and was very glad of the refusal; \n",
      "100 The King's son was always by her, and never ceased his compliments and kind speeches to her; \n",
      "101  to whom all this was so far from being tiresome that she quite forgot what her godmother had recommended to her; \n",
      "102  so that she, at last, counted the clock striking twelve when she took it to be no more than eleven; \n",
      "110 They told her: Yes, but that she hurried away immediately when it struck twelve, and with so much haste that she dropped one of her little glass slippers, the prettiest in the world, which the King's son had taken up; \n",
      "112 What they said was very true; \n",
      "114 They whom he employed began to try it upon the princesses, then the duchesses and all the Court, but in vain; \n",
      "125 She was conducted to the young prince, dressed as she was; \n"
     ]
    }
   ],
   "source": [
    "for i, sentence in enumerate(sentences):\n",
    "    if ';' in sentence:\n",
    "        print(i, sentence)"
   ]
  },
  {
   "cell_type": "code",
   "execution_count": 71,
   "id": "b46ebf7f-9c4e-4711-ba07-79f6dcd996ff",
   "metadata": {},
   "outputs": [
    {
     "data": {
      "text/html": [
       "<div>\n",
       "<style scoped>\n",
       "    .dataframe tbody tr th:only-of-type {\n",
       "        vertical-align: middle;\n",
       "    }\n",
       "\n",
       "    .dataframe tbody tr th {\n",
       "        vertical-align: top;\n",
       "    }\n",
       "\n",
       "    .dataframe thead th {\n",
       "        text-align: right;\n",
       "    }\n",
       "</style>\n",
       "<table border=\"1\" class=\"dataframe\">\n",
       "  <thead>\n",
       "    <tr style=\"text-align: right;\">\n",
       "      <th></th>\n",
       "      <th>coref_id</th>\n",
       "      <th>character_name</th>\n",
       "      <th>character_token</th>\n",
       "      <th>sentence_id</th>\n",
       "      <th>start_byte_in_sentence</th>\n",
       "      <th>end_byte_in_sentence</th>\n",
       "      <th>overlap</th>\n",
       "    </tr>\n",
       "  </thead>\n",
       "  <tbody>\n",
       "    <tr>\n",
       "      <th>15</th>\n",
       "      <td>12</td>\n",
       "      <td>the mother - in - law</td>\n",
       "      <td>She</td>\n",
       "      <td>5</td>\n",
       "      <td>0</td>\n",
       "      <td>3</td>\n",
       "      <td>0</td>\n",
       "    </tr>\n",
       "    <tr>\n",
       "      <th>16</th>\n",
       "      <td>12</td>\n",
       "      <td>the mother - in - law</td>\n",
       "      <td>her</td>\n",
       "      <td>5</td>\n",
       "      <td>140</td>\n",
       "      <td>143</td>\n",
       "      <td>1</td>\n",
       "    </tr>\n",
       "    <tr>\n",
       "      <th>18</th>\n",
       "      <td>12</td>\n",
       "      <td>the mother - in - law</td>\n",
       "      <td>she</td>\n",
       "      <td>5</td>\n",
       "      <td>51</td>\n",
       "      <td>54</td>\n",
       "      <td>0</td>\n",
       "    </tr>\n",
       "    <tr>\n",
       "      <th>21</th>\n",
       "      <td>12</td>\n",
       "      <td>the mother - in - law</td>\n",
       "      <td>her</td>\n",
       "      <td>5</td>\n",
       "      <td>13</td>\n",
       "      <td>16</td>\n",
       "      <td>0</td>\n",
       "    </tr>\n",
       "    <tr>\n",
       "      <th>28</th>\n",
       "      <td>17</td>\n",
       "      <td>madam</td>\n",
       "      <td>madam</td>\n",
       "      <td>5</td>\n",
       "      <td>102</td>\n",
       "      <td>107</td>\n",
       "      <td>0</td>\n",
       "    </tr>\n",
       "    <tr>\n",
       "      <th>29</th>\n",
       "      <td>19</td>\n",
       "      <td>misses</td>\n",
       "      <td>misses</td>\n",
       "      <td>5</td>\n",
       "      <td>132</td>\n",
       "      <td>138</td>\n",
       "      <td>0</td>\n",
       "    </tr>\n",
       "    <tr>\n",
       "      <th>30</th>\n",
       "      <td>20</td>\n",
       "      <td>her daughters</td>\n",
       "      <td>her daughters</td>\n",
       "      <td>5</td>\n",
       "      <td>140</td>\n",
       "      <td>153</td>\n",
       "      <td>0</td>\n",
       "    </tr>\n",
       "  </tbody>\n",
       "</table>\n",
       "</div>"
      ],
      "text/plain": [
       "    coref_id         character_name character_token  sentence_id  \\\n",
       "15        12  the mother - in - law             She            5   \n",
       "16        12  the mother - in - law             her            5   \n",
       "18        12  the mother - in - law             she            5   \n",
       "21        12  the mother - in - law             her            5   \n",
       "28        17                  madam           madam            5   \n",
       "29        19                 misses          misses            5   \n",
       "30        20          her daughters   her daughters            5   \n",
       "\n",
       "    start_byte_in_sentence  end_byte_in_sentence  overlap  \n",
       "15                       0                     3        0  \n",
       "16                     140                   143        1  \n",
       "18                      51                    54        0  \n",
       "21                      13                    16        0  \n",
       "28                     102                   107        0  \n",
       "29                     132                   138        0  \n",
       "30                     140                   153        0  "
      ]
     },
     "execution_count": 71,
     "metadata": {},
     "output_type": "execute_result"
    }
   ],
   "source": [
    "sent_char_df[sent_char_df['sentence_id'] == 5]"
   ]
  },
  {
   "cell_type": "code",
   "execution_count": 72,
   "id": "11e71b45-0432-4291-a618-d546a706d00b",
   "metadata": {},
   "outputs": [
    {
     "data": {
      "text/plain": [
       "'She'"
      ]
     },
     "execution_count": 72,
     "metadata": {},
     "output_type": "execute_result"
    }
   ],
   "source": [
    "sentences[5][0:3]"
   ]
  },
  {
   "cell_type": "code",
   "execution_count": 73,
   "id": "7f6272fd-489c-4b0a-8874-e02d59bf2e8f",
   "metadata": {},
   "outputs": [
    {
     "data": {
      "text/plain": [
       "'her daughters'"
      ]
     },
     "execution_count": 73,
     "metadata": {},
     "output_type": "execute_result"
    }
   ],
   "source": [
    "sentences[5][140:153]"
   ]
  },
  {
   "cell_type": "code",
   "execution_count": 74,
   "id": "01a63649-35b6-434a-9085-c32d3646c166",
   "metadata": {},
   "outputs": [
    {
     "data": {
      "text/plain": [
       "'madam'"
      ]
     },
     "execution_count": 74,
     "metadata": {},
     "output_type": "execute_result"
    }
   ],
   "source": [
    "sentences[5][102:107]"
   ]
  },
  {
   "cell_type": "code",
   "execution_count": 75,
   "id": "35c0d344-deca-4c65-a360-a443fdc38eb7",
   "metadata": {},
   "outputs": [
    {
     "data": {
      "text/html": [
       "<div>\n",
       "<style scoped>\n",
       "    .dataframe tbody tr th:only-of-type {\n",
       "        vertical-align: middle;\n",
       "    }\n",
       "\n",
       "    .dataframe tbody tr th {\n",
       "        vertical-align: top;\n",
       "    }\n",
       "\n",
       "    .dataframe thead th {\n",
       "        text-align: right;\n",
       "    }\n",
       "</style>\n",
       "<table border=\"1\" class=\"dataframe\">\n",
       "  <thead>\n",
       "    <tr style=\"text-align: right;\">\n",
       "      <th></th>\n",
       "      <th>coref_id</th>\n",
       "      <th>character_name</th>\n",
       "      <th>character_token</th>\n",
       "      <th>sentence_id</th>\n",
       "      <th>start_byte_in_sentence</th>\n",
       "      <th>end_byte_in_sentence</th>\n",
       "      <th>overlap</th>\n",
       "    </tr>\n",
       "  </thead>\n",
       "  <tbody>\n",
       "    <tr>\n",
       "      <th>168</th>\n",
       "      <td>1</td>\n",
       "      <td>Cinderella</td>\n",
       "      <td>she</td>\n",
       "      <td>102</td>\n",
       "      <td>9</td>\n",
       "      <td>12</td>\n",
       "      <td>0</td>\n",
       "    </tr>\n",
       "    <tr>\n",
       "      <th>169</th>\n",
       "      <td>1</td>\n",
       "      <td>Cinderella</td>\n",
       "      <td>she</td>\n",
       "      <td>102</td>\n",
       "      <td>62</td>\n",
       "      <td>65</td>\n",
       "      <td>0</td>\n",
       "    </tr>\n",
       "  </tbody>\n",
       "</table>\n",
       "</div>"
      ],
      "text/plain": [
       "     coref_id character_name character_token  sentence_id  \\\n",
       "168         1     Cinderella             she          102   \n",
       "169         1     Cinderella             she          102   \n",
       "\n",
       "     start_byte_in_sentence  end_byte_in_sentence  overlap  \n",
       "168                       9                    12        0  \n",
       "169                      62                    65        0  "
      ]
     },
     "execution_count": 75,
     "metadata": {},
     "output_type": "execute_result"
    }
   ],
   "source": [
    "sent_char_df[sent_char_df['sentence_id'] == 102]"
   ]
  },
  {
   "cell_type": "code",
   "execution_count": 76,
   "id": "5f48a4ae-1858-4a23-afb2-e7a6842f92a1",
   "metadata": {},
   "outputs": [
    {
     "data": {
      "text/plain": [
       "'she'"
      ]
     },
     "execution_count": 76,
     "metadata": {},
     "output_type": "execute_result"
    }
   ],
   "source": [
    "sentences[102][9:12]"
   ]
  },
  {
   "cell_type": "code",
   "execution_count": 77,
   "id": "dd7a9e4f-259b-4d3e-a0d3-40cda2edd2ab",
   "metadata": {},
   "outputs": [
    {
     "data": {
      "text/plain": [
       "'she'"
      ]
     },
     "execution_count": 77,
     "metadata": {},
     "output_type": "execute_result"
    }
   ],
   "source": [
    "sentences[102][62:65]"
   ]
  },
  {
   "cell_type": "code",
   "execution_count": null,
   "id": "c6d99203-6db1-429a-a200-2d37ed501235",
   "metadata": {},
   "outputs": [],
   "source": []
  }
 ],
 "metadata": {
  "kernelspec": {
   "display_name": "Python 3 (ipykernel)",
   "language": "python",
   "name": "python3"
  },
  "language_info": {
   "codemirror_mode": {
    "name": "ipython",
    "version": 3
   },
   "file_extension": ".py",
   "mimetype": "text/x-python",
   "name": "python",
   "nbconvert_exporter": "python",
   "pygments_lexer": "ipython3",
   "version": "3.8.10"
  }
 },
 "nbformat": 4,
 "nbformat_minor": 5
}
