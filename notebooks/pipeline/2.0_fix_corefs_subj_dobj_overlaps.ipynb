{
 "cells": [
  {
   "cell_type": "code",
   "execution_count": 1,
   "id": "af1510bd-a6eb-48cd-9a7e-c130cde85854",
   "metadata": {},
   "outputs": [],
   "source": [
    "from os import listdir\n",
    "\n",
    "import pandas as pd"
   ]
  },
  {
   "cell_type": "code",
   "execution_count": 2,
   "id": "32773ee5-e4d3-4142-bf3c-d8790f1f5736",
   "metadata": {},
   "outputs": [],
   "source": [
    "pipeline_dir = '/Users/pti/challenges/4761_fair_fairytale/fair-fairytale-nlp/data/pipeline/'"
   ]
  },
  {
   "cell_type": "code",
   "execution_count": 3,
   "id": "de06c858-89cf-475b-8a01-0b34d70b603f",
   "metadata": {},
   "outputs": [],
   "source": [
    "all_story_ids = listdir(pipeline_dir)"
   ]
  },
  {
   "cell_type": "code",
   "execution_count": 4,
   "id": "d31a263f-3baf-46a4-9422-bfb413d189c2",
   "metadata": {},
   "outputs": [
    {
     "data": {
      "text/plain": [
       "283"
      ]
     },
     "execution_count": 4,
     "metadata": {},
     "output_type": "execute_result"
    }
   ],
   "source": [
    "len(all_story_ids)"
   ]
  },
  {
   "cell_type": "code",
   "execution_count": 5,
   "id": "46039fc3-c258-45ce-892b-95fff8f8e7b2",
   "metadata": {},
   "outputs": [],
   "source": [
    "all_story_ids.remove('test')\n",
    "all_story_ids.remove('problems')\n",
    "all_story_ids.remove('old')\n",
    "all_story_ids.remove('.DS_Store')\n",
    "all_story_ids.remove('sentences')"
   ]
  },
  {
   "cell_type": "code",
   "execution_count": 6,
   "id": "5499528f-74ac-417a-af27-5f198ef90265",
   "metadata": {},
   "outputs": [
    {
     "data": {
      "text/plain": [
       "278"
      ]
     },
     "execution_count": 6,
     "metadata": {},
     "output_type": "execute_result"
    }
   ],
   "source": [
    "len(all_story_ids)"
   ]
  },
  {
   "cell_type": "code",
   "execution_count": 7,
   "id": "cb08ffdb-5e93-4f12-a0f1-306eebe39301",
   "metadata": {},
   "outputs": [
    {
     "data": {
      "text/plain": [
       "'the-brownie-of-the-lake'"
      ]
     },
     "execution_count": 7,
     "metadata": {},
     "output_type": "execute_result"
    }
   ],
   "source": [
    "all_story_ids[0]"
   ]
  },
  {
   "cell_type": "code",
   "execution_count": 8,
   "id": "f2bf9cea-ed37-4cbb-b2ab-c01df881cada",
   "metadata": {},
   "outputs": [
    {
     "data": {
      "text/plain": [
       "'the-little-hunting-dog'"
      ]
     },
     "execution_count": 8,
     "metadata": {},
     "output_type": "execute_result"
    }
   ],
   "source": [
    "all_story_ids[-1]"
   ]
  },
  {
   "cell_type": "code",
   "execution_count": 9,
   "id": "0aeb07d0-0c6b-4933-a16d-b7cdad233212",
   "metadata": {},
   "outputs": [],
   "source": [
    "dfs = []\n",
    "problem_stories = []\n",
    "sentences = {}\n",
    "\n",
    "for story_id in all_story_ids:\n",
    "    try:\n",
    "        df = pd.read_csv(pipeline_dir + story_id + '/' + story_id + '.actions_args.csv')\n",
    "        df.to_csv(pipeline_dir + story_id + '/' + story_id + '.actions_args.old.csv', index = False)\n",
    "        dfs.append(df)\n",
    "        sentences[story_id] = pd.read_csv(pipeline_dir + story_id + '/' + story_id + '.sentences.csv')['text'].tolist()\n",
    "    except FileNotFoundError:\n",
    "        problem_stories.append(story_id)"
   ]
  },
  {
   "cell_type": "code",
   "execution_count": 10,
   "id": "71913236-7ee9-48ae-b2a1-e689ee2d86fb",
   "metadata": {},
   "outputs": [
    {
     "data": {
      "text/plain": [
       "278"
      ]
     },
     "execution_count": 10,
     "metadata": {},
     "output_type": "execute_result"
    }
   ],
   "source": [
    "len(dfs)"
   ]
  },
  {
   "cell_type": "code",
   "execution_count": 11,
   "id": "4278776d-91a9-4d1f-b600-aeb2aba0aa74",
   "metadata": {},
   "outputs": [
    {
     "data": {
      "text/plain": [
       "278"
      ]
     },
     "execution_count": 11,
     "metadata": {},
     "output_type": "execute_result"
    }
   ],
   "source": [
    "len(sentences)"
   ]
  },
  {
   "cell_type": "code",
   "execution_count": 12,
   "id": "9c8306b9-b235-4582-9fdd-595a80c93dd7",
   "metadata": {},
   "outputs": [],
   "source": [
    "for i, df in enumerate(dfs):\n",
    "    new_dobj_coref_ids = []\n",
    "    story_id = all_story_ids[i]\n",
    "    # Clean up column names\n",
    "    if 'supersense_category_x' in df.columns and 'supersense_category_y' in df.columns and 'supersense_category' not in df.columns:\n",
    "        df.drop(columns = ['supersense_category_y'], inplace = True)\n",
    "        df.rename(columns = {'supersense_category_x': 'supersense_category'}, inplace = True)\n",
    "    elif 'supersense_category_x' in df.columns and 'supersense_category_y' in df.columns and 'supersense_category' in df.columns:\n",
    "        df.drop(columns = ['supersense_category_x', 'supersense_category_y'], inplace = True)\n",
    "    for i, row in df.iterrows():\n",
    "        subj_corefs = set(str(row['subj_coref_ids']).split(','))\n",
    "        if 'nan' in subj_corefs:\n",
    "            subj_corefs.remove('nan')\n",
    "        dobj_corefs = set(str(row['dobj_coref_ids']).split(','))\n",
    "        if 'nan' in dobj_corefs:\n",
    "            dobj_corefs.remove('nan')\n",
    "        overlaps = subj_corefs.intersection(dobj_corefs)\n",
    "        if len(overlaps) > 0:\n",
    "            # print(sentences[story_id][row['sentence_id']])\n",
    "            # print(row['verb'])\n",
    "            # print(\"subject coref: \", row['subj_coref_ids'])\n",
    "            # print(\"subject: \", sentences[story_id][row['sentence_id']][int(row['subj_start_byte']):int(row['subj_end_byte'])])\n",
    "            # print(\"direct_object coref: \", row['dobj_coref_ids'])\n",
    "            # print(\"direct_object: \", sentences[story_id][row['sentence_id']][int(row['dobj_start_byte']):int(row['dobj_end_byte'])])\n",
    "            overlaps = list(overlaps)[0]\n",
    "            dobj_corefs.remove(overlaps)\n",
    "            # print(','.join(dobj_corefs))\n",
    "        new_dobj_coref_ids.append(','.join(list(dobj_corefs)))\n",
    "    df.loc[:, ['dobj_coref_ids']] = new_dobj_coref_ids\n",
    "    df.to_csv(pipeline_dir + story_id + '/' + story_id + '.actions_args.csv', index = False)"
   ]
  },
  {
   "cell_type": "code",
   "execution_count": null,
   "id": "2010332c-35c5-4826-a59c-2159c536d547",
   "metadata": {},
   "outputs": [],
   "source": []
  }
 ],
 "metadata": {
  "kernelspec": {
   "display_name": "Python 3 (ipykernel)",
   "language": "python",
   "name": "python3"
  },
  "language_info": {
   "codemirror_mode": {
    "name": "ipython",
    "version": 3
   },
   "file_extension": ".py",
   "mimetype": "text/x-python",
   "name": "python",
   "nbconvert_exporter": "python",
   "pygments_lexer": "ipython3",
   "version": "3.8.10"
  }
 },
 "nbformat": 4,
 "nbformat_minor": 5
}
