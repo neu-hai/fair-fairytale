{
 "cells": [
  {
   "cell_type": "code",
   "execution_count": null,
   "id": "c5c72ff6",
   "metadata": {},
   "outputs": [],
   "source": [
    "from allennlp.predictors.predictor import Predictor\n",
    "import allennlp_models.tagging\n",
    "\n",
    "predictor1 = Predictor.from_path(\"https://storage.googleapis.com/allennlp-public-models/structured-prediction-srl-bert.2020.12.15.tar.gz\", cuda_device=4)\n",
    "predictor1.predict(\n",
    "    sentence=\"She robbed him of his destiny he could have gone on a scholarship or made a career playing ball or coaching or be in sports rehab\"\n",
    ")"
   ]
  },
  {
   "cell_type": "code",
   "execution_count": null,
   "id": "37dd7f81",
   "metadata": {
    "scrolled": true
   },
   "outputs": [],
   "source": [
    "import pandas as pd\n",
    "#from utils import *\n",
    "import transformers \n",
    "import nltk\n",
    "from collections import Counter\n",
    "import json\n",
    "import os\n",
    "os.environ[\"CUDA_DEVICE_ORDER\"] = \"PCI_BUS_ID\"\n",
    "os.environ[\"CUDA_VISIBLE_DEVICES\"] = '1'\n",
    "\n",
    "from allennlp.predictors.predictor import Predictor\n",
    "import allennlp_models.tagging\n",
    "\n",
    "predictor = Predictor.from_path(\"https://storage.googleapis.com/allennlp-public-models/structured-prediction-srl-bert.2020.12.15.tar.gz\", cuda_device=3)\n",
    "result = predictor.predict(\n",
    "    sentence=\"Did Uriah honestly think he could beat the game in under three hours?.\"\n",
    ")"
   ]
  },
  {
   "cell_type": "code",
   "execution_count": null,
   "id": "e263e9a2",
   "metadata": {},
   "outputs": [],
   "source": [
    "result.keys()"
   ]
  },
  {
   "cell_type": "code",
   "execution_count": 17,
   "id": "0b6d835e",
   "metadata": {
    "scrolled": true
   },
   "outputs": [
    {
     "name": "stdout",
     "output_type": "stream",
     "text": [
      "the length of dictionary 108\n"
     ]
    },
    {
     "data": {
      "text/plain": [
       "[[0, 1, 0, 3],\n",
       " [0, 3, 2, 1],\n",
       " [2, 1, 3, 1],\n",
       " [3, 1, 3, 2],\n",
       " [3, 2, 4, 1],\n",
       " [4, 1, 4, 2],\n",
       " [4, 2, 4, 3],\n",
       " [4, 3, 5, 0],\n",
       " [5, 0, 5, 1],\n",
       " [5, 1, 5, 2],\n",
       " [5, 2, 6, 0],\n",
       " [6, 0, 6, 1],\n",
       " [6, 1, 6, 2],\n",
       " [6, 2, 6, 4],\n",
       " [6, 4, 6, 6],\n",
       " [6, 6, 7, 0],\n",
       " [7, 0, 7, 1],\n",
       " [7, 1, 7, 2],\n",
       " [7, 2, 7, 5],\n",
       " [7, 5, 8, 0],\n",
       " [8, 0, 9, 1],\n",
       " [9, 1, 9, 2],\n",
       " [9, 2, 9, 3],\n",
       " [9, 3, 9, 4],\n",
       " [9, 4, 9, 5],\n",
       " [9, 5, 9, 7],\n",
       " [9, 7, 10, 1],\n",
       " [10, 1, 11, 2],\n",
       " [11, 2, 12, 0],\n",
       " [12, 0, 12, 1],\n",
       " [12, 1, 12, 2],\n",
       " [12, 2, 13, 1],\n",
       " [13, 1, 13, 2],\n",
       " [13, 2, 14, 1],\n",
       " [14, 1, 14, 3],\n",
       " [14, 3, 16, 1],\n",
       " [16, 1, 16, 2],\n",
       " [16, 2, 17, 0],\n",
       " [17, 0, 17, 3],\n",
       " [17, 3, 18, 0],\n",
       " [18, 0, 19, 0],\n",
       " [19, 0, 20, 0],\n",
       " [20, 0, 20, 2],\n",
       " [20, 2, 20, 3],\n",
       " [20, 3, 20, 5],\n",
       " [20, 5, 21, 0],\n",
       " [21, 0, 21, 2],\n",
       " [21, 2, 21, 3],\n",
       " [21, 3, 21, 4],\n",
       " [21, 4, 22, 1],\n",
       " [22, 1, 22, 3],\n",
       " [22, 3, 22, 5],\n",
       " [22, 5, 22, 6],\n",
       " [22, 6, 22, 7],\n",
       " [22, 7, 23, 1],\n",
       " [23, 1, 23, 2],\n",
       " [23, 2, 25, 0],\n",
       " [25, 0, 26, 1],\n",
       " [26, 1, 26, 2],\n",
       " [26, 2, 27, 1],\n",
       " [27, 1, 29, 8],\n",
       " [29, 8, 29, 2],\n",
       " [29, 2, 29, 4],\n",
       " [29, 4, 29, 6],\n",
       " [29, 6, 30, 0],\n",
       " [30, 0, 30, 1],\n",
       " [30, 1, 30, 3],\n",
       " [30, 3, 30, 7],\n",
       " [30, 7, 31, 0],\n",
       " [31, 0, 32, 0],\n",
       " [32, 0, 32, 1],\n",
       " [32, 1, 32, 4],\n",
       " [32, 4, 32, 5],\n",
       " [32, 5, 33, 0],\n",
       " [33, 0, 33, 1],\n",
       " [33, 1, 35, 1],\n",
       " [35, 1, 35, 2],\n",
       " [35, 2, 35, 3],\n",
       " [35, 3, 35, 4],\n",
       " [35, 4, 36, 1],\n",
       " [36, 1, 38, 0],\n",
       " [38, 0, 39, 0],\n",
       " [39, 0, 40, 0],\n",
       " [40, 0, 40, 1],\n",
       " [40, 1, 41, 0],\n",
       " [41, 0, 41, 1],\n",
       " [41, 1, 41, 3],\n",
       " [41, 3, 41, 4],\n",
       " [41, 4, 41, 5],\n",
       " [41, 5, 41, 6],\n",
       " [41, 6, 41, 8],\n",
       " [41, 8, 41, 9],\n",
       " [41, 9, 42, 0],\n",
       " [42, 0, 42, 1],\n",
       " [42, 1, 42, 2],\n",
       " [42, 2, 43, 0],\n",
       " [43, 0, 43, 1],\n",
       " [43, 1, 43, 3],\n",
       " [43, 3, 43, 4],\n",
       " [43, 4, 44, 0],\n",
       " [44, 0, 44, 1],\n",
       " [44, 1, 44, 2],\n",
       " [44, 2, 44, 3],\n",
       " [44, 3, 44, 4],\n",
       " [44, 4, 44, 5],\n",
       " [44, 5, 44, 6],\n",
       " [44, 6, 44, 8],\n",
       " [44, 8, 44, 9],\n",
       " [44, 9, 44, 10],\n",
       " [44, 10, 45, 0],\n",
       " [45, 0, 45, 4],\n",
       " [45, 4, 46, 1],\n",
       " [46, 1, 48, 0],\n",
       " [48, 0, 49, 0],\n",
       " [49, 0, 49, 2],\n",
       " [49, 2, 49, 3],\n",
       " [49, 3, 49, 5],\n",
       " [49, 5, 50, 0],\n",
       " [50, 0, 51, 1],\n",
       " [51, 1, 51, 2],\n",
       " [51, 2, 51, 3],\n",
       " [51, 3, 51, 5],\n",
       " [51, 5, 52, 0],\n",
       " [52, 0, 57, 0],\n",
       " [57, 0, 57, 2],\n",
       " [57, 2, 57, 3],\n",
       " [57, 3, 58, 0],\n",
       " [58, 0, 58, 1],\n",
       " [58, 1, 59, 0],\n",
       " [59, 0, 59, 1],\n",
       " [59, 1, 59, 2],\n",
       " [59, 2, 60, 0],\n",
       " [60, 0, 60, 1],\n",
       " [60, 1, 60, 2],\n",
       " [60, 2, 60, 3],\n",
       " [60, 3, 60, 6],\n",
       " [60, 6, 61, 0],\n",
       " [61, 0, 61, 2],\n",
       " [61, 2, 61, 3],\n",
       " [61, 3, 62, 0],\n",
       " [62, 0, 62, 1],\n",
       " [62, 1, 63, 1],\n",
       " [63, 1, 63, 2],\n",
       " [63, 2, 63, 4],\n",
       " [63, 4, 63, 5],\n",
       " [63, 5, 63, 6],\n",
       " [63, 6, 64, 0],\n",
       " [64, 0, 64, 1],\n",
       " [64, 1, 64, 2],\n",
       " [64, 2, 65, 1],\n",
       " [65, 1, 65, 2],\n",
       " [65, 2, 65, 3],\n",
       " [65, 3, 65, 5],\n",
       " [65, 5, 66, 1],\n",
       " [66, 1, 70, 2],\n",
       " [70, 2, 70, 3],\n",
       " [70, 3, 70, 4],\n",
       " [70, 4, 70, 7],\n",
       " [70, 7, 71, 1],\n",
       " [71, 1, 71, 2],\n",
       " [71, 2, 71, 5],\n",
       " [71, 5, 71, 6],\n",
       " [71, 6, 71, 8],\n",
       " [71, 8, 71, 9],\n",
       " [71, 9, 72, 0],\n",
       " [72, 0, 72, 1],\n",
       " [72, 1, 72, 2],\n",
       " [72, 2, 73, 0],\n",
       " [73, 0, 73, 1],\n",
       " [73, 1, 74, 1],\n",
       " [74, 1, 74, 2],\n",
       " [74, 2, 74, 3],\n",
       " [74, 3, 74, 5],\n",
       " [74, 5, 74, 6],\n",
       " [74, 6, 75, 0],\n",
       " [75, 0, 75, 1],\n",
       " [75, 1, 75, 2],\n",
       " [75, 2, 75, 3],\n",
       " [75, 3, 75, 5],\n",
       " [75, 5, 75, 6],\n",
       " [75, 6, 75, 8],\n",
       " [75, 8, 76, 1],\n",
       " [76, 1, 76, 2],\n",
       " [76, 2, 76, 3],\n",
       " [76, 3, 76, 4],\n",
       " [76, 4, 77, 0],\n",
       " [77, 0, 77, 1],\n",
       " [77, 1, 77, 2],\n",
       " [77, 2, 77, 3],\n",
       " [77, 3, 77, 4],\n",
       " [77, 4, 77, 5],\n",
       " [77, 5, 77, 7],\n",
       " [77, 7, 77, 9],\n",
       " [77, 9, 77, 11],\n",
       " [77, 11, 78, 1],\n",
       " [78, 1, 78, 3],\n",
       " [78, 3, 78, 4],\n",
       " [78, 4, 78, 5],\n",
       " [78, 5, 78, 6],\n",
       " [78, 6, 80, 0],\n",
       " [80, 0, 80, 1],\n",
       " [80, 1, 80, 2],\n",
       " [80, 2, 80, 3],\n",
       " [80, 3, 80, 6],\n",
       " [80, 6, 81, 1],\n",
       " [81, 1, 81, 2],\n",
       " [81, 2, 82, 2],\n",
       " [82, 2, 83, 0],\n",
       " [83, 0, 83, 2],\n",
       " [83, 2, 84, 0],\n",
       " [84, 0, 84, 1],\n",
       " [84, 1, 85, 0],\n",
       " [85, 0, 86, 0],\n",
       " [86, 0, 87, 0],\n",
       " [87, 0, 87, 2],\n",
       " [87, 2, 87, 5],\n",
       " [87, 5, 87, 6],\n",
       " [87, 6, 88, 0],\n",
       " [88, 0, 88, 1],\n",
       " [88, 1, 90, 0],\n",
       " [90, 0, 90, 1],\n",
       " [90, 1, 92, 1],\n",
       " [92, 1, 92, 2],\n",
       " [92, 2, 94, 0],\n",
       " [94, 0, 97, 0],\n",
       " [97, 0, 98, 3],\n",
       " [98, 3, 98, 5],\n",
       " [98, 5, 98, 6],\n",
       " [98, 6, 99, 2],\n",
       " [99, 2, 100, 1],\n",
       " [100, 1, 101, 1],\n",
       " [101, 1, 101, 2],\n",
       " [101, 2, 101, 4],\n",
       " [101, 4, 102, 0],\n",
       " [102, 0, 102, 1],\n",
       " [102, 1, 102, 2],\n",
       " [102, 2, 103, 0],\n",
       " [103, 0, 103, 1],\n",
       " [103, 1, 104, 0],\n",
       " [104, 0, 104, 2],\n",
       " [104, 2, 105, 0],\n",
       " [105, 0, 105, 1],\n",
       " [105, 1, 106, 0],\n",
       " [106, 0, 106, 1],\n",
       " [106, 1, 106, 2],\n",
       " [106, 2, 106, 3],\n",
       " [106, 3, 107, 1],\n",
       " [107, 1, 107, 3],\n",
       " [107, 3, 107, 4],\n",
       " [107, 4, 108, 0],\n",
       " [108, 0, 108, 2],\n",
       " [108, 2, 108, 3],\n",
       " [108, 3, 109, 0],\n",
       " [109, 0, 109, 1],\n",
       " [109, 1, 109, 4],\n",
       " [109, 4, 110, 0],\n",
       " [110, 0, 110, 1],\n",
       " [110, 1, 110, 2],\n",
       " [110, 2, 110, 3],\n",
       " [110, 3, 110, 5],\n",
       " [110, 5, 111, 1],\n",
       " [111, 1, 111, 2],\n",
       " [111, 2, 111, 4],\n",
       " [111, 4, 112, 0],\n",
       " [112, 0, 113, 0],\n",
       " [113, 0, 113, 2],\n",
       " [113, 2, 113, 4],\n",
       " [113, 4, 113, 6],\n",
       " [113, 6, 114, 0],\n",
       " [114, 0, 114, 1],\n",
       " [114, 1, 114, 2],\n",
       " [114, 2, 115, 1],\n",
       " [115, 1, 115, 4],\n",
       " [115, 4, 115, 6],\n",
       " [115, 6, 116, 0],\n",
       " [116, 0, 116, 1],\n",
       " [116, 1, 116, 2],\n",
       " [116, 2, 116, 3],\n",
       " [116, 3, 117, 0],\n",
       " [117, 0, 117, 1],\n",
       " [117, 1, 117, 2],\n",
       " [117, 2, 117, 3],\n",
       " [117, 3, 118, 1],\n",
       " [118, 1, 118, 2],\n",
       " [118, 2, 118, 3],\n",
       " [118, 3, 118, 4],\n",
       " [118, 4, 118, 5],\n",
       " [118, 5, 118, 8],\n",
       " [118, 8, 118, 10],\n",
       " [118, 10, 118, 11],\n",
       " [118, 11, 119, 0],\n",
       " [119, 0, 119, 1],\n",
       " [119, 1, 119, 2],\n",
       " [119, 2, 119, 3],\n",
       " [119, 3, 119, 4],\n",
       " [119, 4, 119, 5],\n",
       " [119, 5, 119, 8],\n",
       " [119, 8, 120, 2],\n",
       " [120, 2, 120, 3],\n",
       " [120, 3, 121, 0],\n",
       " [121, 0, 121, 1],\n",
       " [121, 1, 121, 2],\n",
       " [121, 2, 121, 3],\n",
       " [121, 3, 122, 0],\n",
       " [122, 0, 122, 3],\n",
       " [122, 3, 123, 0],\n",
       " [123, 0, 123, 1],\n",
       " [123, 1, 123, 3],\n",
       " [123, 3, 124, 0],\n",
       " [124, 0, 124, 1],\n",
       " [124, 1, 124, 2],\n",
       " [124, 2, 124, 3],\n",
       " [124, 3, 124, 4],\n",
       " [124, 4, 124, 5],\n",
       " [124, 5, 125, 1],\n",
       " [125, 1, 125, 2],\n",
       " [125, 2, 126, 0],\n",
       " [126, 0, 126, 1],\n",
       " [126, 1, 127, 1],\n",
       " [127, 1, 127, 2]]"
      ]
     },
     "execution_count": 17,
     "metadata": {},
     "output_type": "execute_result"
    }
   ],
   "source": [
    "from TE_data import create_TE_ids, get_core_data\n",
    "srl, sentences, characters = get_core_data()\n",
    "TE_ids,df = create_TE_ids(srl, sentences)\n",
    "TE_ids"
   ]
  },
  {
   "cell_type": "code",
   "execution_count": 19,
   "id": "2dc5ad24",
   "metadata": {},
   "outputs": [
    {
     "data": {
      "text/plain": [
       "128"
      ]
     },
     "execution_count": 19,
     "metadata": {},
     "output_type": "execute_result"
    }
   ],
   "source": [
    "len(sentences)"
   ]
  },
  {
   "cell_type": "code",
   "execution_count": 16,
   "id": "ccfd2593",
   "metadata": {},
   "outputs": [
    {
     "data": {
      "text/html": [
       "<div>\n",
       "<style scoped>\n",
       "    .dataframe tbody tr th:only-of-type {\n",
       "        vertical-align: middle;\n",
       "    }\n",
       "\n",
       "    .dataframe tbody tr th {\n",
       "        vertical-align: top;\n",
       "    }\n",
       "\n",
       "    .dataframe thead th {\n",
       "        text-align: right;\n",
       "    }\n",
       "</style>\n",
       "<table border=\"1\" class=\"dataframe\">\n",
       "  <thead>\n",
       "    <tr style=\"text-align: right;\">\n",
       "      <th></th>\n",
       "      <th>sentence_id</th>\n",
       "      <th>verb_id</th>\n",
       "      <th>verb</th>\n",
       "      <th>in_quote</th>\n",
       "      <th>auxi</th>\n",
       "    </tr>\n",
       "  </thead>\n",
       "  <tbody>\n",
       "    <tr>\n",
       "      <th>1</th>\n",
       "      <td>0</td>\n",
       "      <td>1</td>\n",
       "      <td>married</td>\n",
       "      <td>False</td>\n",
       "      <td>False</td>\n",
       "    </tr>\n",
       "    <tr>\n",
       "      <th>3</th>\n",
       "      <td>0</td>\n",
       "      <td>3</td>\n",
       "      <td>seen</td>\n",
       "      <td>False</td>\n",
       "      <td>False</td>\n",
       "    </tr>\n",
       "    <tr>\n",
       "      <th>7</th>\n",
       "      <td>2</td>\n",
       "      <td>1</td>\n",
       "      <td>took</td>\n",
       "      <td>False</td>\n",
       "      <td>False</td>\n",
       "    </tr>\n",
       "    <tr>\n",
       "      <th>10</th>\n",
       "      <td>3</td>\n",
       "      <td>1</td>\n",
       "      <td>began</td>\n",
       "      <td>False</td>\n",
       "      <td>False</td>\n",
       "    </tr>\n",
       "    <tr>\n",
       "      <th>11</th>\n",
       "      <td>3</td>\n",
       "      <td>2</td>\n",
       "      <td>show</td>\n",
       "      <td>False</td>\n",
       "      <td>False</td>\n",
       "    </tr>\n",
       "    <tr>\n",
       "      <th>...</th>\n",
       "      <td>...</td>\n",
       "      <td>...</td>\n",
       "      <td>...</td>\n",
       "      <td>...</td>\n",
       "      <td>...</td>\n",
       "    </tr>\n",
       "    <tr>\n",
       "      <th>526</th>\n",
       "      <td>125</td>\n",
       "      <td>2</td>\n",
       "      <td>dressed</td>\n",
       "      <td>False</td>\n",
       "      <td>False</td>\n",
       "    </tr>\n",
       "    <tr>\n",
       "      <th>528</th>\n",
       "      <td>126</td>\n",
       "      <td>0</td>\n",
       "      <td>thought</td>\n",
       "      <td>False</td>\n",
       "      <td>False</td>\n",
       "    </tr>\n",
       "    <tr>\n",
       "      <th>529</th>\n",
       "      <td>126</td>\n",
       "      <td>1</td>\n",
       "      <td>married</td>\n",
       "      <td>False</td>\n",
       "      <td>False</td>\n",
       "    </tr>\n",
       "    <tr>\n",
       "      <th>531</th>\n",
       "      <td>127</td>\n",
       "      <td>1</td>\n",
       "      <td>gave</td>\n",
       "      <td>False</td>\n",
       "      <td>False</td>\n",
       "    </tr>\n",
       "    <tr>\n",
       "      <th>532</th>\n",
       "      <td>127</td>\n",
       "      <td>2</td>\n",
       "      <td>matched</td>\n",
       "      <td>False</td>\n",
       "      <td>False</td>\n",
       "    </tr>\n",
       "  </tbody>\n",
       "</table>\n",
       "<p>321 rows × 5 columns</p>\n",
       "</div>"
      ],
      "text/plain": [
       "    sentence_id verb_id     verb in_quote   auxi\n",
       "1             0       1  married    False  False\n",
       "3             0       3     seen    False  False\n",
       "7             2       1     took    False  False\n",
       "10            3       1    began    False  False\n",
       "11            3       2     show    False  False\n",
       "..          ...     ...      ...      ...    ...\n",
       "526         125       2  dressed    False  False\n",
       "528         126       0  thought    False  False\n",
       "529         126       1  married    False  False\n",
       "531         127       1     gave    False  False\n",
       "532         127       2  matched    False  False\n",
       "\n",
       "[321 rows x 5 columns]"
      ]
     },
     "execution_count": 16,
     "metadata": {},
     "output_type": "execute_result"
    }
   ],
   "source": [
    "df[df['in_quote']=='False']"
   ]
  },
  {
   "cell_type": "code",
   "execution_count": null,
   "id": "f0ace87b",
   "metadata": {
    "scrolled": true
   },
   "outputs": [],
   "source": [
    "srl[18]['verbs'][0]['tags'].index('B-V')"
   ]
  },
  {
   "cell_type": "code",
   "execution_count": null,
   "id": "9a9f11d3",
   "metadata": {},
   "outputs": [],
   "source": [
    "0%2"
   ]
  },
  {
   "cell_type": "code",
   "execution_count": null,
   "id": "87e6057d",
   "metadata": {},
   "outputs": [],
   "source": [
    "def check_quotation(words, v_id):\n",
    "    befores = words[:v_id]\n",
    "    cnt = befores.count('\"')\n",
    "    if cnt % 2 == 0:\n",
    "        return False\n",
    "    return True"
   ]
  },
  {
   "cell_type": "code",
   "execution_count": null,
   "id": "a703dc8a",
   "metadata": {},
   "outputs": [],
   "source": [
    "srl[18]['words']"
   ]
  },
  {
   "cell_type": "code",
   "execution_count": null,
   "id": "9c2231c5",
   "metadata": {},
   "outputs": [],
   "source": [
    "sentences[18]"
   ]
  },
  {
   "cell_type": "code",
   "execution_count": null,
   "id": "96d585b7",
   "metadata": {},
   "outputs": [],
   "source": []
  },
  {
   "cell_type": "code",
   "execution_count": null,
   "id": "4b0b3a22",
   "metadata": {},
   "outputs": [],
   "source": []
  },
  {
   "cell_type": "code",
   "execution_count": null,
   "id": "b51e7d73",
   "metadata": {},
   "outputs": [],
   "source": []
  },
  {
   "cell_type": "code",
   "execution_count": null,
   "id": "372fc206",
   "metadata": {},
   "outputs": [],
   "source": []
  },
  {
   "cell_type": "code",
   "execution_count": null,
   "id": "209f18fa",
   "metadata": {},
   "outputs": [],
   "source": []
  },
  {
   "cell_type": "code",
   "execution_count": null,
   "id": "c5916128",
   "metadata": {},
   "outputs": [],
   "source": []
  },
  {
   "cell_type": "code",
   "execution_count": null,
   "id": "f9905bab",
   "metadata": {},
   "outputs": [],
   "source": []
  },
  {
   "cell_type": "code",
   "execution_count": null,
   "id": "c8dab55f",
   "metadata": {},
   "outputs": [],
   "source": []
  },
  {
   "cell_type": "code",
   "execution_count": null,
   "id": "214a9387",
   "metadata": {},
   "outputs": [],
   "source": []
  },
  {
   "cell_type": "code",
   "execution_count": null,
   "id": "88081137",
   "metadata": {},
   "outputs": [],
   "source": []
  },
  {
   "cell_type": "code",
   "execution_count": null,
   "id": "d8a1c306",
   "metadata": {},
   "outputs": [],
   "source": []
  },
  {
   "cell_type": "code",
   "execution_count": null,
   "id": "2c7548cb",
   "metadata": {},
   "outputs": [],
   "source": []
  },
  {
   "cell_type": "code",
   "execution_count": null,
   "id": "4438f8be",
   "metadata": {},
   "outputs": [],
   "source": []
  },
  {
   "cell_type": "code",
   "execution_count": null,
   "id": "bcc96c3d",
   "metadata": {},
   "outputs": [],
   "source": [
    "!pip install lxml"
   ]
  },
  {
   "cell_type": "code",
   "execution_count": null,
   "id": "4467bf9f",
   "metadata": {},
   "outputs": [],
   "source": [
    "from utils import *\n",
    "import pickle as pkl\n",
    "with open(\"../data/matres/train.pickle\", 'rb') as f:\n",
    "    obj = pkl.load(f)"
   ]
  },
  {
   "cell_type": "code",
   "execution_count": null,
   "id": "795a66bd",
   "metadata": {},
   "outputs": [],
   "source": [
    "len(obj.items())"
   ]
  },
  {
   "cell_type": "code",
   "execution_count": null,
   "id": "3653aa05",
   "metadata": {
    "scrolled": true
   },
   "outputs": [],
   "source": [
    "for k,v in obj.items():\n",
    "    print(k, v)\n",
    "    if k=='L0':\n",
    "        break\n"
   ]
  },
  {
   "cell_type": "code",
   "execution_count": null,
   "id": "a31b0f1b",
   "metadata": {},
   "outputs": [],
   "source": [
    "v=obj['L38']"
   ]
  },
  {
   "cell_type": "code",
   "execution_count": null,
   "id": "54c4d51c",
   "metadata": {},
   "outputs": [],
   "source": [
    "v.keys()"
   ]
  },
  {
   "cell_type": "code",
   "execution_count": null,
   "id": "5e2bd5e9",
   "metadata": {},
   "outputs": [],
   "source": [
    "v['rel_type'],v['rev'],v['doc_dictionary'],v['event_labels'],v['doc_id'],v['left_event'].span,v['right_event'].span"
   ]
  },
  {
   "cell_type": "code",
   "execution_count": null,
   "id": "fe87ec9f",
   "metadata": {},
   "outputs": [],
   "source": [
    "v['left_event'].span"
   ]
  },
  {
   "cell_type": "code",
   "execution_count": null,
   "id": "c95f27b5",
   "metadata": {},
   "outputs": [],
   "source": [
    "v['right_event'].span"
   ]
  },
  {
   "cell_type": "code",
   "execution_count": null,
   "id": "a645fb12",
   "metadata": {},
   "outputs": [],
   "source": [
    "e = v[\"left_event\"]\n",
    "(e.id, e.type, e.text, e.tense, e.polarity, e.span)"
   ]
  },
  {
   "cell_type": "code",
   "execution_count": null,
   "id": "b3e646ee",
   "metadata": {},
   "outputs": [],
   "source": [
    "!pip install sentencepiece"
   ]
  },
  {
   "cell_type": "code",
   "execution_count": null,
   "id": "db7e6434",
   "metadata": {
    "scrolled": true
   },
   "outputs": [],
   "source": [
    "from get_srl import get_predicate\n",
    "ex"
   ]
  },
  {
   "cell_type": "code",
   "execution_count": null,
   "id": "3bb20bcc",
   "metadata": {
    "scrolled": true
   },
   "outputs": [],
   "source": [
    "get_predicate(\"I hate going to school; but today is an exception\")"
   ]
  },
  {
   "cell_type": "code",
   "execution_count": null,
   "id": "2f4427ea",
   "metadata": {},
   "outputs": [],
   "source": [
    "\n",
    "story, idx, tokens = [], [], []\n",
    "for i in range(1, 6):\n",
    "    sent = \"I hate going to school; but today is an exception\"\n",
    "    #char_len.append(len(sent))\n",
    "    #tok_len.append(len(sent.split(' ')))\n",
    "    events = get_predicate(sent)\n",
    "    if not events:\n",
    "        break\n",
    "\n",
    "    templates = []\n",
    "    for event in events:\n",
    "        idx, tokens = get_event_idx(sent, event)\n",
    "        if idx == -1:\n",
    "            pass\n",
    "#             logger.info(\"NLTK Mismatch!\")\n",
    "#             logger.info(event)\n",
    "        else:\n",
    "            templates.append((i, idx, tokens, event[2], event[3], event[4]))\n",
    "    if not templates:\n",
    "        break\n",
    "\n",
    "    story.append(templates)"
   ]
  },
  {
   "cell_type": "code",
   "execution_count": null,
   "id": "827f95ea",
   "metadata": {
    "scrolled": true
   },
   "outputs": [],
   "source": [
    "events[0][-1]"
   ]
  },
  {
   "cell_type": "code",
   "execution_count": null,
   "id": "6d916cea",
   "metadata": {},
   "outputs": [],
   "source": [
    "from collections import OrderedDict\n",
    "from utils import * \n",
    "from get_srl import *"
   ]
  },
  {
   "cell_type": "code",
   "execution_count": null,
   "id": "b9ecefb2",
   "metadata": {
    "scrolled": true
   },
   "outputs": [],
   "source": [
    "\n",
    "sent = \"I hated going to school; so, i will bomb my school!\"\n",
    "event_spans = [(2,6),(34,36)]\n",
    "\n",
    "\n",
    "def parse(sent):\n",
    "    od = OrderedDict()\n",
    "    \n",
    "    events = get_predicate(sent)\n",
    "#     if not events:\n",
    "#         continue\n",
    "    tokens = events[0][-1]\n",
    "    tok_id = 0\n",
    "    \n",
    "    for offset in range(len(sent)):\n",
    "        if tok_id >= len(tokens):\n",
    "            break\n",
    "        tok = tokens[tok_id]\n",
    "        if sent[offset:offset+len(tok)]==tok:\n",
    "            od['['+str(offset)+':'+str(offset+len(tok)+1) + ')'] = (tok, None)\n",
    "            tok_id+=1\n",
    "    return od\n",
    "\n",
    "def create_data_instance(sent, event_spans):\n",
    "    \"\"\"\n",
    "    sentence is a string and event spans are a list of the spans of two events\n",
    "    \"\"\" \n",
    "    left_event = Event(None, None, None, None, None, event_spans[0])\n",
    "    right_event = Event(None, None, None, None, None, event_spans[1])\n",
    "    doc_dict = parse(sent)\n",
    "    v = dict()\n",
    "    v['rel_type'],v['rev'],v['doc_dictionary'],v['event_labels'],v['doc_id'],v['left_event'],v['right_event'] = \\\n",
    "    'BEFORE', None, doc_dict, None, None, left_event, right_event\n",
    "    return {'L0':v}\n",
    "\n",
    "# parse(sent)\n",
    "examples = create_data_instance(sent, event_spans)\n",
    "examples"
   ]
  },
  {
   "cell_type": "code",
   "execution_count": null,
   "id": "e0129455",
   "metadata": {},
   "outputs": [],
   "source": [
    "import transformers\n",
    "model = \"roberta-large\"\n",
    "tokenizer = transformers.RobertaTokenizer.from_pretrained(model, do_lower_case=True)\n",
    "eval_features_te = convert_examples_to_features_te(\"../data\", \"matres\", \"test\", tokenizer, 128, True,test_data=examples)"
   ]
  },
  {
   "cell_type": "code",
   "execution_count": null,
   "id": "16ba6e51",
   "metadata": {},
   "outputs": [],
   "source": [
    "import torch\n",
    "eval_input_ids_te = torch.tensor(select_field_te(eval_features_te, 'input_ids'), dtype=torch.long)\n",
    "eval_input_mask_te = torch.tensor(select_field_te(eval_features_te, 'input_mask'), dtype=torch.long)\n",
    "eval_segment_ids_te = torch.tensor(select_field_te(eval_features_te, 'segment_ids'), dtype=torch.long)\n",
    "eval_lidx_s = torch.tensor(select_field_te(eval_features_te, 'lidx_s'), dtype=torch.long)\n",
    "eval_lidx_e = torch.tensor(select_field_te(eval_features_te, 'lidx_e'), dtype=torch.long)\n",
    "eval_ridx_s = torch.tensor(select_field_te(eval_features_te, 'ridx_s'), dtype=torch.long)\n",
    "eval_ridx_e = torch.tensor(select_field_te(eval_features_te, 'ridx_e'), dtype=torch.long)\n",
    "eval_pred_inds = torch.tensor(select_field_te(eval_features_te, 'pred_ind'), dtype=torch.long)\n",
    "eval_label_te = torch.tensor([f.label for f in eval_features_te], dtype=torch.long)\n",
    "eval_input_length_te = torch.tensor([f.length for f in eval_features_te], dtype=torch.long)"
   ]
  },
  {
   "cell_type": "code",
   "execution_count": null,
   "id": "d7274354",
   "metadata": {
    "scrolled": true
   },
   "outputs": [],
   "source": [
    "(eval_input_ids_te, eval_input_mask_te, eval_segment_ids_te, eval_label_te,\n",
    "                                  eval_lidx_s, eval_lidx_e, eval_ridx_s, eval_ridx_e, eval_pred_inds,\n",
    "                                  eval_input_length_te)"
   ]
  },
  {
   "cell_type": "code",
   "execution_count": null,
   "id": "59641dbb",
   "metadata": {},
   "outputs": [],
   "source": [
    "\n",
    "with open('../data/matres/example.pickle', 'wb') as f:\n",
    "    pickle.dump(examples, f)"
   ]
  },
  {
   "cell_type": "code",
   "execution_count": null,
   "id": "f03d6cd3",
   "metadata": {},
   "outputs": [],
   "source": [
    "sent[0:]"
   ]
  },
  {
   "cell_type": "code",
   "execution_count": null,
   "id": "ce3ae26a",
   "metadata": {},
   "outputs": [],
   "source": [
    "ex.keys()"
   ]
  },
  {
   "cell_type": "code",
   "execution_count": null,
   "id": "a6c2887c",
   "metadata": {
    "scrolled": true
   },
   "outputs": [],
   "source": [
    "ex['doc_dictionary'], ex['left_event'], ex['right_event']"
   ]
  },
  {
   "cell_type": "code",
   "execution_count": null,
   "id": "4adf7d8d",
   "metadata": {
    "scrolled": true
   },
   "outputs": [],
   "source": [
    "\n",
    "examples = pickle.load(open(\"../data/matres/test.pickle\", \"rb\"))\n",
    "for ex_id, ex in examples.items():\n",
    "#     print(ex['rel_type'])\n",
    "#     print(ex['doc_id'])\n",
    "#     print(ex['left_event'].id)\n",
    "#     print(ex['right_event'].id)\n",
    "    print(ex['doc_dictionary'])\n",
    "    print(ex['left_event'].span)\n",
    "    print(ex['right_event'].span)\n",
    "#     print(ex_id)\n",
    "#     print()\n",
    "#     print()\n",
    "#     print()\n",
    "    break"
   ]
  },
  {
   "cell_type": "code",
   "execution_count": null,
   "id": "6f71fe9c",
   "metadata": {},
   "outputs": [],
   "source": [
    "te_type = \"matres\"\n",
    "data_dir = \"../data/\"\n",
    "max_seq_length=128\n",
    "trainIds, devIds = get_train_dev_ids(data_dir, te_type)\n"
   ]
  },
  {
   "cell_type": "code",
   "execution_count": null,
   "id": "0bf31e72",
   "metadata": {},
   "outputs": [],
   "source": [
    "import transformers\n",
    "model = \"roberta-large\"\n",
    "tokenizer = transformers.RobertaTokenizer.from_pretrained(model, do_lower_case=True)\n",
    "eval_features_te = convert_examples_to_features_te(data_dir, te_type, 'test',\n",
    "                                                    tokenizer, max_seq_length, True)"
   ]
  },
  {
   "cell_type": "code",
   "execution_count": null,
   "id": "3bcca0d9",
   "metadata": {},
   "outputs": [],
   "source": [
    "te_sample_size = len(eval_features_te)\n",
    "print(te_sample_size)"
   ]
  },
  {
   "cell_type": "code",
   "execution_count": null,
   "id": "05440953",
   "metadata": {},
   "outputs": [],
   "source": [
    "import torch\n",
    "eval_input_ids_te = torch.tensor(select_field_te(eval_features_te, 'input_ids'), dtype=torch.long)\n",
    "eval_input_mask_te = torch.tensor(select_field_te(eval_features_te, 'input_mask'), dtype=torch.long)\n",
    "eval_segment_ids_te = torch.tensor(select_field_te(eval_features_te, 'segment_ids'), dtype=torch.long)\n",
    "eval_lidx_s = torch.tensor(select_field_te(eval_features_te, 'lidx_s'), dtype=torch.long)\n",
    "eval_lidx_e = torch.tensor(select_field_te(eval_features_te, 'lidx_e'), dtype=torch.long)\n",
    "eval_ridx_s = torch.tensor(select_field_te(eval_features_te, 'ridx_s'), dtype=torch.long)\n",
    "eval_ridx_e = torch.tensor(select_field_te(eval_features_te, 'ridx_e'), dtype=torch.long)\n",
    "eval_pred_inds = torch.tensor(select_field_te(eval_features_te, 'pred_ind'), dtype=torch.long)\n",
    "eval_label_te = torch.tensor([f.label for f in eval_features_te], dtype=torch.long)\n",
    "eval_input_length_te = torch.tensor([f.length for f in eval_features_te], dtype=torch.long)\n"
   ]
  },
  {
   "cell_type": "code",
   "execution_count": null,
   "id": "61ac0921",
   "metadata": {
    "scrolled": true
   },
   "outputs": [],
   "source": [
    "eval_input_length_te"
   ]
  },
  {
   "cell_type": "code",
   "execution_count": null,
   "id": "fd778595",
   "metadata": {},
   "outputs": [],
   "source": []
  }
 ],
 "metadata": {
  "kernelspec": {
   "display_name": "Python 3 (ipykernel)",
   "language": "python",
   "name": "python3"
  },
  "language_info": {
   "codemirror_mode": {
    "name": "ipython",
    "version": 3
   },
   "file_extension": ".py",
   "mimetype": "text/x-python",
   "name": "python",
   "nbconvert_exporter": "python",
   "pygments_lexer": "ipython3",
   "version": "3.8.5"
  }
 },
 "nbformat": 4,
 "nbformat_minor": 5
}
